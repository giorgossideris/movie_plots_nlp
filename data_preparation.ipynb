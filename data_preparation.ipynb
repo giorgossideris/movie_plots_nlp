{
 "cells": [
  {
   "cell_type": "markdown",
   "id": "96c5b591",
   "metadata": {},
   "source": [
    "# Data Preparation\n",
    "* In this file we will prepare the data that we will use to tasks included in this project.\n",
    "* The dataset used is the [Wikipedia Movie Plots](https://www.kaggle.com/datasets/jrobischon/wikipedia-movie-plots), that  contains descriptions of 34,886 movies from around the world, scraped from Wikipedia.\n",
    "* This dataset can be found under the path <code>./data/wiki_movie_plots_deduped.csv</code>."
   ]
  },
  {
   "cell_type": "markdown",
   "id": "7682725f",
   "metadata": {},
   "source": [
    "## Import packages\n",
    "* To begin with, we will import the packages, that we will use in the following segments of this notebook:\n",
    "    * [pandas](https://pandas.pydata.org/)\n",
    "    * [scikit-learn](https://scikit-learn.org/stable/)\n",
    "    * [NumPy](https://numpy.org/)\n",
    "    * [matplotlib](https://matplotlib.org/)"
   ]
  },
  {
   "cell_type": "code",
   "execution_count": 1,
   "id": "ab052e78",
   "metadata": {},
   "outputs": [],
   "source": [
    "import pandas as pd\n",
    "from sklearn.preprocessing import LabelEncoder\n",
    "import numpy as np\n",
    "import pickle\n",
    "import os\n",
    "import matplotlib.pyplot as plt"
   ]
  },
  {
   "cell_type": "markdown",
   "id": "80d74eeb",
   "metadata": {},
   "source": [
    "## Read Dataset\n",
    "* First, we will read our dataset and save it into a [pandas.Dataframe](https://pandas.pydata.org/docs/reference/api/pandas.DataFrame.html)."
   ]
  },
  {
   "cell_type": "code",
   "execution_count": 2,
   "id": "3094e33c",
   "metadata": {},
   "outputs": [
    {
     "data": {
      "text/html": [
       "<div>\n",
       "<style scoped>\n",
       "    .dataframe tbody tr th:only-of-type {\n",
       "        vertical-align: middle;\n",
       "    }\n",
       "\n",
       "    .dataframe tbody tr th {\n",
       "        vertical-align: top;\n",
       "    }\n",
       "\n",
       "    .dataframe thead th {\n",
       "        text-align: right;\n",
       "    }\n",
       "</style>\n",
       "<table border=\"1\" class=\"dataframe\">\n",
       "  <thead>\n",
       "    <tr style=\"text-align: right;\">\n",
       "      <th></th>\n",
       "      <th>Release Year</th>\n",
       "      <th>Title</th>\n",
       "      <th>Origin/Ethnicity</th>\n",
       "      <th>Director</th>\n",
       "      <th>Cast</th>\n",
       "      <th>Genre</th>\n",
       "      <th>Wiki Page</th>\n",
       "      <th>Plot</th>\n",
       "    </tr>\n",
       "  </thead>\n",
       "  <tbody>\n",
       "    <tr>\n",
       "      <th>0</th>\n",
       "      <td>1901</td>\n",
       "      <td>Kansas Saloon Smashers</td>\n",
       "      <td>American</td>\n",
       "      <td>Unknown</td>\n",
       "      <td>NaN</td>\n",
       "      <td>unknown</td>\n",
       "      <td>https://en.wikipedia.org/wiki/Kansas_Saloon_Sm...</td>\n",
       "      <td>A bartender is working at a saloon, serving dr...</td>\n",
       "    </tr>\n",
       "    <tr>\n",
       "      <th>1</th>\n",
       "      <td>1901</td>\n",
       "      <td>Love by the Light of the Moon</td>\n",
       "      <td>American</td>\n",
       "      <td>Unknown</td>\n",
       "      <td>NaN</td>\n",
       "      <td>unknown</td>\n",
       "      <td>https://en.wikipedia.org/wiki/Love_by_the_Ligh...</td>\n",
       "      <td>The moon, painted with a smiling face hangs ov...</td>\n",
       "    </tr>\n",
       "    <tr>\n",
       "      <th>2</th>\n",
       "      <td>1901</td>\n",
       "      <td>The Martyred Presidents</td>\n",
       "      <td>American</td>\n",
       "      <td>Unknown</td>\n",
       "      <td>NaN</td>\n",
       "      <td>unknown</td>\n",
       "      <td>https://en.wikipedia.org/wiki/The_Martyred_Pre...</td>\n",
       "      <td>The film, just over a minute long, is composed...</td>\n",
       "    </tr>\n",
       "    <tr>\n",
       "      <th>3</th>\n",
       "      <td>1901</td>\n",
       "      <td>Terrible Teddy, the Grizzly King</td>\n",
       "      <td>American</td>\n",
       "      <td>Unknown</td>\n",
       "      <td>NaN</td>\n",
       "      <td>unknown</td>\n",
       "      <td>https://en.wikipedia.org/wiki/Terrible_Teddy,_...</td>\n",
       "      <td>Lasting just 61 seconds and consisting of two ...</td>\n",
       "    </tr>\n",
       "    <tr>\n",
       "      <th>4</th>\n",
       "      <td>1902</td>\n",
       "      <td>Jack and the Beanstalk</td>\n",
       "      <td>American</td>\n",
       "      <td>George S. Fleming, Edwin S. Porter</td>\n",
       "      <td>NaN</td>\n",
       "      <td>unknown</td>\n",
       "      <td>https://en.wikipedia.org/wiki/Jack_and_the_Bea...</td>\n",
       "      <td>The earliest known adaptation of the classic f...</td>\n",
       "    </tr>\n",
       "  </tbody>\n",
       "</table>\n",
       "</div>"
      ],
      "text/plain": [
       "   Release Year                             Title Origin/Ethnicity  \\\n",
       "0          1901            Kansas Saloon Smashers         American   \n",
       "1          1901     Love by the Light of the Moon         American   \n",
       "2          1901           The Martyred Presidents         American   \n",
       "3          1901  Terrible Teddy, the Grizzly King         American   \n",
       "4          1902            Jack and the Beanstalk         American   \n",
       "\n",
       "                             Director Cast    Genre  \\\n",
       "0                             Unknown  NaN  unknown   \n",
       "1                             Unknown  NaN  unknown   \n",
       "2                             Unknown  NaN  unknown   \n",
       "3                             Unknown  NaN  unknown   \n",
       "4  George S. Fleming, Edwin S. Porter  NaN  unknown   \n",
       "\n",
       "                                           Wiki Page  \\\n",
       "0  https://en.wikipedia.org/wiki/Kansas_Saloon_Sm...   \n",
       "1  https://en.wikipedia.org/wiki/Love_by_the_Ligh...   \n",
       "2  https://en.wikipedia.org/wiki/The_Martyred_Pre...   \n",
       "3  https://en.wikipedia.org/wiki/Terrible_Teddy,_...   \n",
       "4  https://en.wikipedia.org/wiki/Jack_and_the_Bea...   \n",
       "\n",
       "                                                Plot  \n",
       "0  A bartender is working at a saloon, serving dr...  \n",
       "1  The moon, painted with a smiling face hangs ov...  \n",
       "2  The film, just over a minute long, is composed...  \n",
       "3  Lasting just 61 seconds and consisting of two ...  \n",
       "4  The earliest known adaptation of the classic f...  "
      ]
     },
     "execution_count": 2,
     "metadata": {},
     "output_type": "execute_result"
    }
   ],
   "source": [
    "df = pd.read_csv('data/wiki_movie_plots_deduped.csv')\n",
    "df.head()"
   ]
  },
  {
   "cell_type": "markdown",
   "id": "50c412b0",
   "metadata": {},
   "source": [
    "* Let's check for *na* values first."
   ]
  },
  {
   "cell_type": "code",
   "execution_count": 3,
   "id": "d6d976c0",
   "metadata": {},
   "outputs": [
    {
     "data": {
      "text/plain": [
       "Release Year           0\n",
       "Title                  0\n",
       "Origin/Ethnicity       0\n",
       "Director               0\n",
       "Cast                1422\n",
       "Genre                  0\n",
       "Wiki Page              0\n",
       "Plot                   0\n",
       "dtype: int64"
      ]
     },
     "execution_count": 3,
     "metadata": {},
     "output_type": "execute_result"
    }
   ],
   "source": [
    "df.isna().sum()"
   ]
  },
  {
   "cell_type": "markdown",
   "id": "091760c6",
   "metadata": {},
   "source": [
    "* <code>Cast</code> is a column that we will **not** use later, so there are no *na* values that affect our preparation."
   ]
  },
  {
   "cell_type": "markdown",
   "id": "31f58dbb",
   "metadata": {},
   "source": [
    "## Classification task\n",
    "* The first task that we will perform (in the <code>./genre_classification.ipynb</code> notebook), is a genre **classification of the movies given their plot**.\n",
    "* Here we will prepare the data for the classification.\n",
    "* For this task we will need only the <code>Plot</code> (our X) and <code>Genre</code> (our Y) of the dataset."
   ]
  },
  {
   "cell_type": "code",
   "execution_count": 4,
   "id": "929a4ecd",
   "metadata": {},
   "outputs": [
    {
     "data": {
      "text/html": [
       "<div>\n",
       "<style scoped>\n",
       "    .dataframe tbody tr th:only-of-type {\n",
       "        vertical-align: middle;\n",
       "    }\n",
       "\n",
       "    .dataframe tbody tr th {\n",
       "        vertical-align: top;\n",
       "    }\n",
       "\n",
       "    .dataframe thead th {\n",
       "        text-align: right;\n",
       "    }\n",
       "</style>\n",
       "<table border=\"1\" class=\"dataframe\">\n",
       "  <thead>\n",
       "    <tr style=\"text-align: right;\">\n",
       "      <th></th>\n",
       "      <th>Genre</th>\n",
       "      <th>Plot</th>\n",
       "    </tr>\n",
       "  </thead>\n",
       "  <tbody>\n",
       "    <tr>\n",
       "      <th>0</th>\n",
       "      <td>unknown</td>\n",
       "      <td>A bartender is working at a saloon, serving dr...</td>\n",
       "    </tr>\n",
       "    <tr>\n",
       "      <th>1</th>\n",
       "      <td>unknown</td>\n",
       "      <td>The moon, painted with a smiling face hangs ov...</td>\n",
       "    </tr>\n",
       "    <tr>\n",
       "      <th>2</th>\n",
       "      <td>unknown</td>\n",
       "      <td>The film, just over a minute long, is composed...</td>\n",
       "    </tr>\n",
       "    <tr>\n",
       "      <th>3</th>\n",
       "      <td>unknown</td>\n",
       "      <td>Lasting just 61 seconds and consisting of two ...</td>\n",
       "    </tr>\n",
       "    <tr>\n",
       "      <th>4</th>\n",
       "      <td>unknown</td>\n",
       "      <td>The earliest known adaptation of the classic f...</td>\n",
       "    </tr>\n",
       "  </tbody>\n",
       "</table>\n",
       "</div>"
      ],
      "text/plain": [
       "     Genre                                               Plot\n",
       "0  unknown  A bartender is working at a saloon, serving dr...\n",
       "1  unknown  The moon, painted with a smiling face hangs ov...\n",
       "2  unknown  The film, just over a minute long, is composed...\n",
       "3  unknown  Lasting just 61 seconds and consisting of two ...\n",
       "4  unknown  The earliest known adaptation of the classic f..."
      ]
     },
     "execution_count": 4,
     "metadata": {},
     "output_type": "execute_result"
    }
   ],
   "source": [
    "df_clf = df[['Genre', 'Plot']]\n",
    "df_clf.head()"
   ]
  },
  {
   "cell_type": "markdown",
   "id": "a13aa1d6",
   "metadata": {},
   "source": [
    "* Let's see how many different *genres* are included in the dataset, relative to the size of the dataset."
   ]
  },
  {
   "cell_type": "code",
   "execution_count": 5,
   "id": "3931e17a",
   "metadata": {},
   "outputs": [
    {
     "name": "stdout",
     "output_type": "stream",
     "text": [
      "2265 different genres are included in the dataset. \n",
      "34886 different movies are included in the dataset.\n"
     ]
    }
   ],
   "source": [
    "genres_count = len(df_clf['Genre'].unique())\n",
    "dataset_size = len(df_clf)\n",
    "print(f'{genres_count} different genres are included in the dataset. \\n' +\n",
    "        f'{dataset_size} different movies are included in the dataset.')"
   ]
  },
  {
   "cell_type": "markdown",
   "id": "1d2c8e6f",
   "metadata": {},
   "source": [
    "* It seems that there are many different genres, so let's start by having a look at the **top 10 most frequently appeared genres**."
   ]
  },
  {
   "cell_type": "code",
   "execution_count": 6,
   "id": "b0e33f00",
   "metadata": {},
   "outputs": [
    {
     "data": {
      "image/png": "[encoded data removed]",
      "text/plain": [
       "<Figure size 1000x600 with 1 Axes>"
      ]
     },
     "metadata": {},
     "output_type": "display_data"
    }
   ],
   "source": [
    "genre_value_counts_top_10 = df_clf['Genre'].value_counts()[:10]\n",
    "\n",
    "# Create a bar chart\n",
    "plt.figure(figsize=(10, 6))  # Adjust the figure size if needed\n",
    "genre_value_counts_top_10.plot(kind='bar')\n",
    "plt.title('Genre Distribution')\n",
    "plt.xlabel('Genre')\n",
    "plt.ylabel('Count')\n",
    "plt.xticks(rotation=45)  # Rotate x-axis labels for better readability\n",
    "plt.tight_layout()\n",
    "\n",
    "# Show the chart\n",
    "plt.show()"
   ]
  },
  {
   "cell_type": "markdown",
   "id": "6d4fc81e",
   "metadata": {},
   "source": [
    "* First, we can notice that <code>unknown</code> category is the one appearing the most frequently. But it is not useful for our model, so we will **not use** it.\n",
    "* Then, we can notice that there is a big gap between *drama* and *comedy* with the rest of the genres.\n",
    "* So, as NLP generally demands a large dataset for Model Training, for the particular task we will focus on the **two** most frequent genres, *drama* and *comedy*.\n",
    "* The task at hand then is a *binary classification task*.\n",
    "* Following, we will keep the rows of the dataset that refer only to these genres."
   ]
  },
  {
   "cell_type": "code",
   "execution_count": 7,
   "id": "6711f177",
   "metadata": {},
   "outputs": [
    {
     "data": {
      "text/plain": [
       "10343"
      ]
     },
     "execution_count": 7,
     "metadata": {},
     "output_type": "execute_result"
    }
   ],
   "source": [
    "frequent_genres = ['drama', 'comedy']\n",
    "df_clf = df_clf[df_clf['Genre'].isin(frequent_genres)]\n",
    "df_clf.reset_index(inplace=True, drop=True)\n",
    "len(df_clf)"
   ]
  },
  {
   "cell_type": "markdown",
   "id": "83d48d06",
   "metadata": {},
   "source": [
    "* Many lines were dropped, but that's ok.\n",
    "* Lastly, in order to use *strings* (the genres) as labels, we will encode them into numerical values, as it is required.\n",
    "* To do that we will use the <code>LabelEncoder</code> provided by [scikit-learn](https://scikit-learn.org/stable/)."
   ]
  },
  {
   "cell_type": "code",
   "execution_count": 8,
   "id": "e244b148",
   "metadata": {},
   "outputs": [
    {
     "data": {
      "text/html": [
       "<div>\n",
       "<style scoped>\n",
       "    .dataframe tbody tr th:only-of-type {\n",
       "        vertical-align: middle;\n",
       "    }\n",
       "\n",
       "    .dataframe tbody tr th {\n",
       "        vertical-align: top;\n",
       "    }\n",
       "\n",
       "    .dataframe thead th {\n",
       "        text-align: right;\n",
       "    }\n",
       "</style>\n",
       "<table border=\"1\" class=\"dataframe\">\n",
       "  <thead>\n",
       "    <tr style=\"text-align: right;\">\n",
       "      <th></th>\n",
       "      <th>Genre</th>\n",
       "      <th>Plot</th>\n",
       "      <th>Genre_Encoded</th>\n",
       "    </tr>\n",
       "  </thead>\n",
       "  <tbody>\n",
       "    <tr>\n",
       "      <th>0</th>\n",
       "      <td>comedy</td>\n",
       "      <td>The film is about a family who move to the sub...</td>\n",
       "      <td>0</td>\n",
       "    </tr>\n",
       "    <tr>\n",
       "      <th>1</th>\n",
       "      <td>comedy</td>\n",
       "      <td>Before heading out to a baseball game at a nea...</td>\n",
       "      <td>0</td>\n",
       "    </tr>\n",
       "    <tr>\n",
       "      <th>2</th>\n",
       "      <td>comedy</td>\n",
       "      <td>The plot is that of a black woman going to the...</td>\n",
       "      <td>0</td>\n",
       "    </tr>\n",
       "    <tr>\n",
       "      <th>3</th>\n",
       "      <td>drama</td>\n",
       "      <td>On a beautiful summer day a father and mother ...</td>\n",
       "      <td>1</td>\n",
       "    </tr>\n",
       "    <tr>\n",
       "      <th>4</th>\n",
       "      <td>drama</td>\n",
       "      <td>A thug accosts a girl as she leaves her workpl...</td>\n",
       "      <td>1</td>\n",
       "    </tr>\n",
       "  </tbody>\n",
       "</table>\n",
       "</div>"
      ],
      "text/plain": [
       "    Genre                                               Plot  Genre_Encoded\n",
       "0  comedy  The film is about a family who move to the sub...              0\n",
       "1  comedy  Before heading out to a baseball game at a nea...              0\n",
       "2  comedy  The plot is that of a black woman going to the...              0\n",
       "3   drama  On a beautiful summer day a father and mother ...              1\n",
       "4   drama  A thug accosts a girl as she leaves her workpl...              1"
      ]
     },
     "execution_count": 8,
     "metadata": {},
     "output_type": "execute_result"
    }
   ],
   "source": [
    "label_encoder = LabelEncoder()\n",
    "df_clf.loc[:, 'Genre_Encoded'] = label_encoder.fit_transform(df_clf['Genre'])\n",
    "df_clf.head()"
   ]
  },
  {
   "cell_type": "markdown",
   "id": "df5c496b-a3a3-424d-920f-9c7855156865",
   "metadata": {},
   "source": [
    "* Let's also keep the mapping of the encoding."
   ]
  },
  {
   "cell_type": "code",
   "execution_count": 9,
   "id": "761c2f5a",
   "metadata": {},
   "outputs": [
    {
     "data": {
      "text/plain": [
       "{0: 'comedy', 1: 'drama'}"
      ]
     },
     "execution_count": 9,
     "metadata": {},
     "output_type": "execute_result"
    }
   ],
   "source": [
    "encoding_mapping = dict(zip(label_encoder.transform(label_encoder.classes_), label_encoder.classes_, ))\n",
    "encoding_mapping"
   ]
  },
  {
   "cell_type": "markdown",
   "id": "799d9f91",
   "metadata": {},
   "source": [
    "* Following, we will extract all the data that we need for our modeling under the path <code>./data/classification</code>.\n",
    "* Specifically:\n",
    "    * The **plots**: will be used as the independent variables of the classification (X) and will be saved in <code>./data/classification/plots.npy</code>\n",
    "    * The **genres (encoded)** of each plot: will be used as labels (Y) and will be saved in <code>./data/classification/genres_encoded.npy</code>\n",
    "    * The **encoding** of the genres, that will be saved in <code>./data/classification/genre_encoding.pickle</code>"
   ]
  },
  {
   "cell_type": "code",
   "execution_count": 10,
   "id": "be2a47d3",
   "metadata": {},
   "outputs": [],
   "source": [
    "# Create the directory if it doesn't exist\n",
    "save_dir = './data/classification/'\n",
    "os.makedirs(save_dir, exist_ok=True)\n",
    "\n",
    "np.save('./data/classification/plots.npy', df_clf['Plot'].to_numpy())\n",
    "np.save('./data/classification/genres_encoded.npy', df_clf['Genre_Encoded'].to_numpy())\n",
    "with open('./data/classification/genre_encoding.pickle', \"wb\") as file:\n",
    "    pickle.dump(encoding_mapping, file)"
   ]
  }
 ],
 "metadata": {
  "kernelspec": {
   "display_name": "Python 3 (ipykernel)",
   "language": "python",
   "name": "python3"
  },
  "language_info": {
   "codemirror_mode": {
    "name": "ipython",
    "version": 3
   },
   "file_extension": ".py",
   "mimetype": "text/x-python",
   "name": "python",
   "nbconvert_exporter": "python",
   "pygments_lexer": "ipython3",
   "version": "3.11.5"
  }
 },
 "nbformat": 4,
 "nbformat_minor": 5
}
