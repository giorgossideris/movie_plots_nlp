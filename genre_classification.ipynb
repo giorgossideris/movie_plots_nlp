{
 "cells": [
  {
   "cell_type": "markdown",
   "id": "e4c69f20-687d-410b-8864-28f8d144eb28",
   "metadata": {},
   "source": [
    "# Genre classification\n",
    "* In this notebook we will perform a **classification** task. Specifically, **given the plot of a movie we aim to predict its genre**. Specifically, we will focus on two movie genres, **drama** and **comedy** (that were by far the two most frequent genres appearing in the dataset).\n",
    "* The data were obtained by the [Wikipedia Movie Plots](https://www.kaggle.com/datasets/jrobischon/wikipedia-movie-plots) dataset, that  contains descriptions of 34,886 movies from around the world, scraped from Wikipedia."
   ]
  },
  {
   "cell_type": "markdown",
   "id": "6d26e8eb-57f2-479d-b0ec-41191e5a0fec",
   "metadata": {},
   "source": [
    "## Import packages\n",
    "* To begin with, we will import the packages and modules, that we will use in the following segments of this notebook:\n",
    "    * [pandas](https://pandas.pydata.org/)\n",
    "    * [NumPy](https://numpy.org/)\n",
    "    * [pickle](https://docs.python.org/3/library/pickle.html)\n",
    "    * [SciPy](https://scipy.org/)\n",
    "    * [seaborn](https://seaborn.pydata.org/)\n",
    "    * [re](https://docs.python.org/3/library/re.html)\n",
    "    * [nltk](https://www.nltk.org/)\n",
    "    * [spaCy](https://spacy.io/)\n",
    "    * [scikit-learn](https://scikit-learn.org/stable/)"
   ]
  },
  {
   "cell_type": "code",
   "execution_count": 39,
   "id": "2434816e-7960-49e0-9d3e-591ebbeb4e06",
   "metadata": {},
   "outputs": [],
   "source": [
    "import pandas as pd\n",
    "import numpy as np\n",
    "import pickle\n",
    "from scipy import stats\n",
    "import matplotlib.pyplot as plt\n",
    "import seaborn as sns\n",
    "\n",
    "import re\n",
    "\n",
    "import nltk\n",
    "from nltk.corpus import stopwords\n",
    "from nltk.tokenize import word_tokenize\n",
    "from nltk.corpus import wordnet\n",
    "from nltk.stem import WordNetLemmatizer\n",
    "\n",
    "import spacy\n",
    "\n",
    "from sklearn.model_selection import train_test_split\n",
    "from sklearn.feature_extraction.text import CountVectorizer, TfidfVectorizer\n",
    "from sklearn.naive_bayes import MultinomialNB\n",
    "from sklearn.linear_model import LogisticRegression\n",
    "from sklearn.pipeline import Pipeline\n",
    "from sklearn.metrics import accuracy_score, classification_report, confusion_matrix"
   ]
  },
  {
   "cell_type": "markdown",
   "id": "d08c171b-4c62-4355-ae81-73ec494ff9a7",
   "metadata": {},
   "source": [
    "## Load the data\n",
    "* Following, we will load the data that we prepared in the <code>./data_preparation.ipynb</code> notebook.\n",
    "* These include:\n",
    "    * The **plots**: will be used as the independent variables of the classification (X)\n",
    "    * The **genres (encoded)** of each plot: will be used as labels (Y)\n",
    "    * The **encoding** of the genres\n",
    "* *Note: the rows that refer to drama and comedy genres were kept for this task.*"
   ]
  },
  {
   "cell_type": "code",
   "execution_count": 2,
   "id": "4d0eaec5-c965-4262-9e61-84b7059cdec1",
   "metadata": {},
   "outputs": [],
   "source": [
    "X = np.load('./data/classification/plots.npy', allow_pickle=True)\n",
    "y = np.load('./data/classification/genres_encoded.npy', allow_pickle=True)\n",
    "with open('./data/classification/genre_encoding.pickle', 'rb') as file:\n",
    "    label_encoding = pickle.load(file)"
   ]
  },
  {
   "cell_type": "markdown",
   "id": "03e21388-6330-484a-a50a-447615c28cb1",
   "metadata": {},
   "source": [
    "* Let's have a quick look at some of the plot-genre pairs"
   ]
  },
  {
   "cell_type": "code",
   "execution_count": 3,
   "id": "3eebcf73-394b-422b-952a-382c031a1694",
   "metadata": {},
   "outputs": [
    {
     "name": "stdout",
     "output_type": "stream",
     "text": [
      "===Plot===\n",
      "The film is about a family who move to the suburbs, hoping for a quiet life. Things start to go wrong, and the wife gets violent and starts throwing crockery, leading to her arrest.\n",
      "===> comedy\n",
      "\n",
      "===Plot===\n",
      "Before heading out to a baseball game at a nearby ballpark, sports fan Mr. Brown drinks several highball cocktails. He arrives at the ballpark to watch the game, but has become so inebriated that the game appears to him in reverse, with the players running the bases backwards and the baseball flying back into the pitcher's hand. After the game is over, Mr. Brown is escorted home by one of his friends. When they arrive at Brown's house, they encounter his wife who becomes furious with the friend and proceeds to physically assault him, believing he is responsible for her husband's severe intoxication.[1]\n",
      "===> comedy\n",
      "\n",
      "===Plot===\n",
      "The plot is that of a black woman going to the dentist for a toothache and being given laughing gas. On her way walking home, and in other situations, she can't stop laughing, and everyone she meets \"catches\" the laughter from her, including a vendor and police officers.\n",
      "===> comedy\n",
      "\n",
      "===Plot===\n",
      "On a beautiful summer day a father and mother take their daughter Dollie on an outing to the river. The mother refuses to buy a gypsy's wares. The gypsy tries to rob the mother, but the father drives him off. The gypsy returns to the camp and devises a plan. They return and kidnap Dollie while her parents are distracted. A rescue crew is organized, but the gypsy takes Dollie to his camp. They gag Dollie and hide her in a barrel before the rescue party gets to the camp. Once they leave the gypsies and escapes in their wagon. As the wagon crosses the river, the barrel falls into the water. Still sealed in the barrel, Dollie is swept downstream in dangerous currents. A boy who is fishing in the river finds the barrel, and Dollie is reunited safely with her parents.\n",
      "===> drama\n",
      "\n",
      "===Plot===\n",
      "A thug accosts a girl as she leaves her workplace but a man rescues her. The thug vows revenge and, with the help of two friends, attacks the girl and her rescuer again as they're going for a walk. This time they succeed in kidnapping the rescuer. He is bound and gagged and taken away in a cart. The girl runs home and gets help from several neighbors. They track the ruffians down to a cabin in the mountains where the gang has trapped their victim and set the cabin on fire. A thug and Rescuer fight on the roof of the house.\n",
      "===> drama\n",
      "\n"
     ]
    }
   ],
   "source": [
    "for i in range(5):\n",
    "    print(('===Plot===\\n'\n",
    "            f'{X[i]}\\n'\n",
    "            f'===> {label_encoding[y[i]]}\\n'))"
   ]
  },
  {
   "cell_type": "markdown",
   "id": "c994a542-75c6-410d-9695-190c830ab297",
   "metadata": {},
   "source": [
    "* Here, from the second plot we can see that it is **not always very obvious the genre of the movie**. Given this violent description here, possibly comedy would not be the first genre that would come to someone's mind.\n",
    "* We can also have a look at the number of records that refer to each genre.\n",
    "* Let's do that using a barchart."
   ]
  },
  {
   "cell_type": "code",
   "execution_count": 4,
   "id": "0486f589-64e7-4698-83fb-281724527dda",
   "metadata": {},
   "outputs": [
    {
     "data": {
      "image/png": "[encoded data removed]",
      "text/plain": [
       "<Figure size 640x480 with 1 Axes>"
      ]
     },
     "metadata": {},
     "output_type": "display_data"
    }
   ],
   "source": [
    "# get the counts for each label\n",
    "unique_labels, label_counts = np.unique(y, return_counts=True)\n",
    "\n",
    "#get the genres that correspond the each of the <code>unique_labels</code>\n",
    "label_genres = np.vectorize(lambda x: label_encoding[x])(unique_labels)\n",
    "\n",
    "fig, ax = plt.subplots()\n",
    "ax.bar(label_genres, label_counts)\n",
    "ax.set_xlabel('Genre')\n",
    "ax.set_ylabel('Count')\n",
    "ax.set_title('Number of records per Genre')\n",
    "plt.xticks(rotation=45) # rotate the x-axis labels for better visibility\n",
    "\n",
    "plt.show()"
   ]
  },
  {
   "cell_type": "markdown",
   "id": "495fb0bf-e89d-4e98-9a54-54f1e979c0a7",
   "metadata": {},
   "source": [
    "* It looks like more *drama* movies are included in the dataset.\n",
    "* We have to keep this in mind in case we have to handle this imbalance later."
   ]
  },
  {
   "cell_type": "markdown",
   "id": "2ada96df-0c15-484c-a083-e17e3ef35c1b",
   "metadata": {},
   "source": [
    "## Helper methods\n",
    "* Before starting with the modeling, it will be helpful to write some helper methods that we will use throghout this notebook."
   ]
  },
  {
   "cell_type": "code",
   "execution_count": 48,
   "id": "605bec58-c711-43c1-a526-eba3df1f61c4",
   "metadata": {},
   "outputs": [],
   "source": [
    "def plot_confusion_matrix(confusion_matrix, labels):\n",
    "    # Normalize the confusion matrix\n",
    "    confusion_matrix = confusion_matrix.astype('float') / confusion_matrix.sum(axis=1)[:, np.newaxis]\n",
    "\n",
    "    # Set up the plot\n",
    "    fig, ax = plt.subplots()\n",
    "    sns.set(font_scale=1.2)\n",
    "\n",
    "    # Create a heatmap for the confusion matrix\n",
    "    heatmap = sns.heatmap(confusion_matrix, annot=True, cmap='Blues', fmt='.2f', xticklabels=labels, yticklabels=labels)\n",
    "\n",
    "    # Set axis labels and title\n",
    "    ax.set_xlabel('Predicted')\n",
    "    ax.set_ylabel('True')\n",
    "    ax.set_title('Confusion Matrix')\n",
    "\n",
    "    # Rotate the x-axis labels for better visibility\n",
    "    plt.xticks(rotation=45)\n",
    "\n",
    "    # Show the plot\n",
    "    plt.show()\n",
    "\n",
    "def print_performance_metrics(y_test, y_pred, labels):\n",
    "    #print accuracy\n",
    "    accuracy = accuracy_score(y_test, y_pred)\n",
    "    print(\"Accuracy:\", accuracy)\n",
    "    \n",
    "    # plot a confusion matrix\n",
    "    conf_matrix = confusion_matrix(y_test, y_pred)\n",
    "    print(\"Confusion Matrix:\\n\")\n",
    "    plot_confusion_matrix(conf_matrix, labels)\n",
    "    \n",
    "    # print a classification report that included details about precision, recall, f1-score and support\n",
    "    report = classification_report(y_test, y_pred)\n",
    "    print(\"Classification Report:\\n\", report)"
   ]
  },
  {
   "cell_type": "markdown",
   "id": "d08aa815-2d73-4889-8a9a-fac8dc7e85c9",
   "metadata": {},
   "source": [
    "## Simple Text Classification Algorithms\n",
    "* In this section of the notebook, we will explore the fundamentals of text classification using **simpler machine learning algorithms***.\n",
    "* These straightforward yet effective models, include:\n",
    "    * Naive Bayes\n",
    "    * Logistic Regression\n",
    "    * Support Vector Machines (SVM)\n",
    "* We will first execute the **preprocessing steps** required to apply these algorithms.\n",
    "* These foundational models will provide a solid foundation for later exploring more advanced techniques in text classification."
   ]
  },
  {
   "cell_type": "markdown",
   "id": "7d395316-651d-49f9-93bd-9c7e83f2331c",
   "metadata": {},
   "source": [
    "### Preprocessing\n",
    "* Before applying machine learning algorithms for text classification, it's essential to **prepare** and **clean** the text data effectively.\n",
    "* Text preprocessing involves transforming raw text data into a **structured** format that can be used by these simpler machine learning models."
   ]
  },
  {
   "cell_type": "markdown",
   "id": "c8a6912a-06c9-4d71-a4e8-5aba1bd7c69e",
   "metadata": {},
   "source": [
    "#### 1. Text cleaning\n",
    "* Text cleaning includes:\n",
    "  1. Removal of any **special characters**, **symbols**, and **punctuation marks** from the text.\n",
    "  3. Removal **common stopwords (e.g., \"the,\" \"and,\" \"is,\" \"in\")** as they often do not carry significant meaning for classification.\n",
    "  4. Conversion of all words to **lowercase**. This ensures that \"word\" and \"Word\" are treated as the same word, reducing feature dimensionality.\n",
    "  5. Application of **stemming** to the words included in the plots.\n",
    "* The characters and words mentioned above, typically don't contribute much to the classification task using these simpler algorithms and can be safely removed."
   ]
  },
  {
   "cell_type": "markdown",
   "id": "776e15c1-ace4-4792-81a2-994384c0c558",
   "metadata": {},
   "source": [
    "* First, we will create a function that removes special characters, symbols and punctuation marks from the plots' descriptions.\n",
    "* We will do that using **[regular expressions (regex)](https://en.wikipedia.org/wiki/Regular_expression)**.\n",
    "* In specific, the regular expression that specifies the characters that we want is <code>[^A-Za-z0-9\\s]</code>, which means all the characters that are **not** letters, numbers or whitespace."
   ]
  },
  {
   "cell_type": "code",
   "execution_count": 6,
   "id": "f501bf4f-058c-4c56-b825-1b89ae07d5fd",
   "metadata": {},
   "outputs": [],
   "source": [
    "def remove_unnecessary_characters(text):\n",
    "    return re.sub(r'[^A-Za-z0-9\\s]', '', text)"
   ]
  },
  {
   "cell_type": "markdown",
   "id": "de955eeb-5cbb-4183-91f5-f24a785a66cf",
   "metadata": {},
   "source": [
    "* Then we will create a function that removes common stopwords of the English language.\n",
    "* To do that we will use the stopwords that are included into the [nltk](https://www.nltk.org/) library.\n",
    "* *Note: in order the do that we have to download the stopwords for english and tokenization packages of ntlk.*"
   ]
  },
  {
   "cell_type": "code",
   "execution_count": 7,
   "id": "c51e9e6d-19dc-4542-a94e-2214fbf8dfb6",
   "metadata": {},
   "outputs": [
    {
     "name": "stderr",
     "output_type": "stream",
     "text": [
      "[nltk_data] Downloading package stopwords to\n",
      "[nltk_data]     C:\\Users\\BT314MC\\AppData\\Roaming\\nltk_data...\n",
      "[nltk_data]   Package stopwords is already up-to-date!\n",
      "[nltk_data] Downloading package punkt to\n",
      "[nltk_data]     C:\\Users\\BT314MC\\AppData\\Roaming\\nltk_data...\n",
      "[nltk_data]   Package punkt is already up-to-date!\n"
     ]
    }
   ],
   "source": [
    "nltk.download('stopwords')\n",
    "nltk.download('punkt')\n",
    "stop_words = set(stopwords.words('english'))\n",
    "\n",
    "def remove_stopwords(text):\n",
    "    words = word_tokenize(text) # tokenize the words of the given text\n",
    "    cleaned_words = [word for word in words if word.lower() not in stop_words] # remove stopwords\n",
    "    cleaned_text = ' '.join(cleaned_words) # join cleaned words back to text\n",
    "    return cleaned_text"
   ]
  },
  {
   "cell_type": "markdown",
   "id": "d84bd80a-7386-4b46-b8d8-611c7998b397",
   "metadata": {},
   "source": [
    "* Moving on, we will create a function to convert a text to lowercase."
   ]
  },
  {
   "cell_type": "code",
   "execution_count": 8,
   "id": "6ac77fd1-a0c6-4db2-8e53-753faad186e6",
   "metadata": {},
   "outputs": [],
   "source": [
    "def convert_to_lowercase(text):\n",
    "    return text.lower()"
   ]
  },
  {
   "cell_type": "markdown",
   "id": "ead01915-5e82-4a82-b52b-c123da249929",
   "metadata": {},
   "source": [
    "* Next we will create a function for lemmatization. We will again use the [nltk](https://www.nltk.org/) library for this task, and specifically the <code>WordNetLemmatizer</code>.\n",
    "* Lemmatization is a **text normalization** technique used in natural language processing (NLP) and information retrieval and aims to reduce words to their dictionary or lemma form.\n",
    "* Lemmatization helps reduce the dimensionality of text data and improve the performance of various NLP tasks.\n",
    "* *Note: another very frequently used text normalization tecnhnique is **stemming**, which aims to reduce words to their base or root form by removing suffixes. Here lemmatization was chosen because it is considered more accurate and linguistically grounded.*"
   ]
  },
  {
   "cell_type": "code",
   "execution_count": 9,
   "id": "ddb10d3a-6a96-43ff-8b54-7b96101b8a43",
   "metadata": {},
   "outputs": [
    {
     "name": "stderr",
     "output_type": "stream",
     "text": [
      "[nltk_data] Downloading package averaged_perceptron_tagger to\n",
      "[nltk_data]     C:\\Users\\BT314MC\\AppData\\Roaming\\nltk_data...\n",
      "[nltk_data]   Package averaged_perceptron_tagger is already up-to-\n",
      "[nltk_data]       date!\n",
      "[nltk_data] Downloading package wordnet to\n",
      "[nltk_data]     C:\\Users\\BT314MC\\AppData\\Roaming\\nltk_data...\n",
      "[nltk_data]   Package wordnet is already up-to-date!\n"
     ]
    }
   ],
   "source": [
    "nltk.download('averaged_perceptron_tagger')\n",
    "nltk.download('wordnet')\n",
    "\n",
    "# Define a function to convert NLTK part-of-speech tags to WordNet tags,\n",
    "# it will be used later as an argument of the <code>lemmatize</code> method of the lemmatizer\n",
    "def get_wordnet_pos(word):\n",
    "    tag = nltk.pos_tag([word])[0][1][0].upper()\n",
    "    tag_dict = {\"J\": wordnet.ADJ, \"N\": wordnet.NOUN, \"V\": wordnet.VERB, \"R\": wordnet.ADV}\n",
    "    return tag_dict.get(tag, wordnet.NOUN)  # Default to noun if not found\n",
    "    \n",
    "def apply_lemmatization(text):\n",
    "    lemmatizer = WordNetLemmatizer()\n",
    "    words = word_tokenize(text) # tokenize the words of the given text\n",
    "    lemmatized_words = [lemmatizer.lemmatize(word, get_wordnet_pos(word)) for word in words] # Lemmatize each word\n",
    "    lemmatized_text = ' '.join(lemmatized_words) # join lemmatized words back to text\n",
    "    return lemmatized_text"
   ]
  },
  {
   "cell_type": "markdown",
   "id": "9ca97bc6-32f6-4216-aa8e-1941c4b11ab3",
   "metadata": {},
   "source": [
    "* Now that we have created all the functions we need for cleaning we can create a function that applies them all to a given text."
   ]
  },
  {
   "cell_type": "code",
   "execution_count": 10,
   "id": "48c207fd-0295-4e2e-b0eb-c85ab743c0d6",
   "metadata": {},
   "outputs": [],
   "source": [
    "def clean_text(text):\n",
    "    cleaning_functions = [remove_unnecessary_characters, remove_stopwords, convert_to_lowercase, apply_lemmatization]\n",
    "    cleaned_text = text\n",
    "    for cl_func in cleaning_functions:\n",
    "        cleaned_text = cl_func(cleaned_text)\n",
    "    return cleaned_text"
   ]
  },
  {
   "cell_type": "markdown",
   "id": "e17f5491-c438-48cc-9864-5d07ec5e3b44",
   "metadata": {},
   "source": [
    "* Now we can apply this function to our <code>X</code> variable that includes the plots of the movies.\n",
    "* **The line performing the cleaning is commented out, as it is very time consuming. Its outcome was saved in a file and then read out of it to continue with the rest of the procedure.**"
   ]
  },
  {
   "cell_type": "code",
   "execution_count": 11,
   "id": "fd45d6a7-bd35-4756-b0f5-ea92feeb2f8b",
   "metadata": {},
   "outputs": [
    {
     "name": "stdout",
     "output_type": "stream",
     "text": [
      "===Plot===\n",
      "film family move suburb hop quiet life thing start go wrong wife get violent start throw crockery lead arrest\n",
      "===> comedy\n",
      "\n",
      "===Plot===\n",
      "head baseball game nearby ballpark sport fan mr brown drink several highball cocktail arrives ballpark watch game become inebriate game appear reverse player run base backwards baseball fly back pitcher hand game mr brown escort home one friend arrive brown house encounter wife becomes furious friend proceeds physically assault believe responsible husband severe intoxication1\n",
      "===> comedy\n",
      "\n",
      "===Plot===\n",
      "plot black woman go dentist toothache give laugh gas way walk home situation cant stop laugh everyone meet catch laughter include vendor police officer\n",
      "===> comedy\n",
      "\n",
      "===Plot===\n",
      "beautiful summer day father mother take daughter dollie out river mother refuse buy gypsy ware gypsy try rob mother father drive gypsy return camp devise plan return kidnap dollie parent distract rescue crew organize gypsy take dollie camp gag dollie hide barrel rescue party get camp leave gypsy escape wagon wagon cross river barrel fall water still seal barrel dollie swept downstream dangerous current boy fishing river find barrel dollie reunite safely parent\n",
      "===> drama\n",
      "\n",
      "===Plot===\n",
      "thug accosts girl leaf workplace man rescue thug vow revenge help two friend attack girl rescuer theyre go walk time succeed kidnapping rescuer bound gag take away cart girl run home get help several neighbor track ruffian cabin mountain gang trap victim set cabin fire thug rescuer fight roof house\n",
      "===> drama\n",
      "\n"
     ]
    }
   ],
   "source": [
    "#cleaned_X = np.array([clean_text(plot) for plot in X])\n",
    "cleaned_X = X = np.load('./data/classification/cleaned_plots.npy', allow_pickle=True)\n",
    "\n",
    "for i in range(5):\n",
    "    print(('===Plot===\\n'\n",
    "            f'{cleaned_X[i]}\\n'\n",
    "            f'===> {label_encoding[y[i]]}\\n'))"
   ]
  },
  {
   "cell_type": "markdown",
   "id": "5128a410-8c4e-4177-a415-6621bfe6dd20",
   "metadata": {},
   "source": [
    "* As lemmatization is a time-consuming procedure we will extract the cleaned data.\n",
    "* *Note: we save the array as of object type because it is more memory efficient in our case because of the varying string length of the plots. More specifically, it is more than 10 times smaller in size this way.*\n",
    "* **The following line is also commented out in order not to extract the cleaned_plots array every time we execute the code.**"
   ]
  },
  {
   "cell_type": "code",
   "execution_count": 12,
   "id": "e849dd16-dcea-48df-a6c4-3aea0f1b8979",
   "metadata": {},
   "outputs": [],
   "source": [
    "#np.save('./data/classification/cleaned_plots.npy', cleaned_X.astype('O'))"
   ]
  },
  {
   "cell_type": "markdown",
   "id": "ebc88042-853d-4eaf-b7c8-097d4e4e6e59",
   "metadata": {},
   "source": [
    "### Train-Test Split\n",
    "* At this point, and because the following steps require training, it is necessary to **split the data into a train and a test set**.\n",
    "* This will allow us to evaluate the actual performance of the algorithm."
   ]
  },
  {
   "cell_type": "code",
   "execution_count": 13,
   "id": "743bbdad-d1c1-4cde-b0a2-0dbee823a1eb",
   "metadata": {},
   "outputs": [
    {
     "data": {
      "text/plain": [
       "(8274, 2069)"
      ]
     },
     "execution_count": 13,
     "metadata": {},
     "output_type": "execute_result"
    }
   ],
   "source": [
    "cleaned_X_train, cleaned_X_test, y_train, y_test = train_test_split(cleaned_X, y, test_size=0.2, random_state=42)\n",
    "len(cleaned_X_train), len(cleaned_X_test)"
   ]
  },
  {
   "cell_type": "markdown",
   "id": "21a881ef-a14c-4f71-8888-6d21e2961a24",
   "metadata": {},
   "source": [
    "### Vectorization\n",
    "* In this section, we will use techniques to **transform words into numerical features**, providing the foundation for text-based machine learning models.\n",
    "* Specifically, we will use:\n",
    "    1. Bag of Words (BoW)\n",
    "    2. TF-IDF\n",
    "    3. Word embeddingsels."
   ]
  },
  {
   "cell_type": "markdown",
   "id": "06c84ceb-faa5-4fd2-b4a3-33c00dafa1a5",
   "metadata": {},
   "source": [
    "#### Bag of Words (BoW)\n",
    "* The Bag of Words (BoW) model is a **commonly used technique** in natural language processing (NLP) to represent text data as a numerical feature vector. \n",
    "* It simplifies the text data by discarding the order and structure of the words and focuses solely on their **frequencies** or **occurrences**.\n",
    "* An overview of the steps involved in creating a bag-of-words representation is the following:\n",
    "    1. *Tokenization*: Split the text into individual words or tokens. This step typically involves removing punctuation and splitting the text based on whitespace.\n",
    "    2. *Vocabulary Creation*: Create a vocabulary by collecting all unique words (tokens) from the text corpus. Each word in the vocabulary becomes a feature.\n",
    "    3. *Encoding*: Encode each document or text instance into a numerical feature vector. The length of the feature vector is equal to the size of the vocabulary. The value in each feature represents the frequency or occurrence of the corresponding word in the document.\n",
    "    4. *Vectorization*: Create a matrix representation where each row corresponds to a document, and each column represents a word from the vocabulary. The elements of the matrix are the word frequencies or occurrences.\n",
    "* In **Python** we can implement the BoW model using the <code>sklearn.feature_extraction.text.CountVectorizer</code> class.\n",
    "* After the BoW representation has been generated we can use it as **input for various machine learning algorithms**."
   ]
  },
  {
   "cell_type": "code",
   "execution_count": 14,
   "id": "a9fc787a-f886-4b40-ac41-cfaac2af12dc",
   "metadata": {},
   "outputs": [],
   "source": [
    "bow_vectorizer = CountVectorizer()"
   ]
  },
  {
   "cell_type": "markdown",
   "id": "8493c661-1eac-4d53-9a77-91c31faed0bb",
   "metadata": {},
   "source": [
    "* We will use this vectorizer as part of a **Pipeline** in the following section, so we will not train it at this point.\n",
    "* **The same thing applies for the vectorizers that we will create moving on too.**"
   ]
  },
  {
   "cell_type": "markdown",
   "id": "1f54f215-ee8e-4fbc-9cb7-df3a8237a831",
   "metadata": {},
   "source": [
    "#### TF-IDF (Term Frequency-Inverse Document Frequency)\n",
    "* TF-IDF, short for Term Frequency-Inverse Document Frequency, is a fundamental text analysis technique used in Natural Language Processing (NLP).\n",
    "* It is designed to measure the **importance of words** within a document or a corpus by considering both their **frequency** within a document and their **rarity** across the entire corpus.\n",
    "* The TF-IDF formula calculates a weight for each word, where:\n",
    "    - **Term Frequency (TF)** measures how often a word appears in a document. More frequent words receive higher scores.\n",
    "    - **Inverse Document Frequency (IDF)** measures how rare a word is across the entire corpus. Words that appear in many documents receive lower scores.\n",
    "* The TF-IDF score reflects the significance of a word in a specific document relative to its importance in the entire dataset.\n",
    "* TF-IDF is particularly useful for text-based information retrieval, document ranking, and text classification tasks.\n",
    "* In practice, libraries like scikit-learn provide the <code>sklearn.feature_extraction.text.TfidfVectorizer</code> class to compute TF-IDF representations from text data.\n",
    "* Once TF-IDF representations are generated, they can be used as input for machine learning algorithms, especially for tasks that **require understanding the importance of words** within documents."
   ]
  },
  {
   "cell_type": "code",
   "execution_count": 16,
   "id": "cbb47090-5525-443f-a85d-6d24c61c060b",
   "metadata": {},
   "outputs": [],
   "source": [
    "tf_idf_vectorizer = TfidfVectorizer()"
   ]
  },
  {
   "cell_type": "markdown",
   "id": "158df890-462a-44e8-8864-1a9ebb628e53",
   "metadata": {},
   "source": [
    "#### Word Embeddings\n",
    "* Word embeddings are a transformative technique in NLP used to **represent words as dense numerical vectors**.\n",
    "* Unlike traditional text representations like Bag of Words (BoW), word embeddings capture the **semantic relationships** between words, allowing words with similar meanings to have similar vector representations.\n",
    "* Word embeddings are often **pre-trained on large text corpora**, learning context-based word representations.\n",
    "* In our case we will use the [spaCy](https://spacy.io/) library to get the pre-trained embeddings, and we will create a *custom embedding vectorizer* based on these embeddings."
   ]
  },
  {
   "cell_type": "code",
   "execution_count": 35,
   "id": "0d4bd246-2985-4b80-b91f-7aa88091b1e4",
   "metadata": {},
   "outputs": [],
   "source": [
    "nlp = spacy.load('en_core_web_md')\n",
    "\n",
    "# Create a custom vectorizer to obtain word vectors for each word in a text\n",
    "class EmbeddingVectorizer:\n",
    "    def __init__(self, nlp):\n",
    "        self.nlp = nlp\n",
    "    \n",
    "    def fit(self, X, y=None):\n",
    "        return self\n",
    "    \n",
    "    def transform(self, X):\n",
    "        return [self.nlp(text).vector for text in X]\n",
    "\n",
    "embedding_vectorizer = EmbeddingVectorizer(nlp)"
   ]
  }
 ],
 "metadata": {
  "kernelspec": {
   "display_name": "Python 3 (ipykernel)",
   "language": "python",
   "name": "python3"
  },
  "language_info": {
   "codemirror_mode": {
    "name": "ipython",
    "version": 3
   },
   "file_extension": ".py",
   "mimetype": "text/x-python",
   "name": "python",
   "nbconvert_exporter": "python",
   "pygments_lexer": "ipython3",
   "version": "3.11.5"
  }
 },
 "nbformat": 4,
 "nbformat_minor": 5
}
