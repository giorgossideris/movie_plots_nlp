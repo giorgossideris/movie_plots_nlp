{
 "cells": [
  {
   "cell_type": "markdown",
   "id": "e4c69f20-687d-410b-8864-28f8d144eb28",
   "metadata": {},
   "source": [
    "# Genre classification\n",
    "* In this notebook we will perform a **classification** task. Specifically, **given the plot of a movie we aim to predict its genre**. Specifically, we will focus on two movie genres, **drama** and **comedy** (that were by far the two most frequent genres appearing in the dataset).\n",
    "* The data were obtained by the [Wikipedia Movie Plots](https://www.kaggle.com/datasets/jrobischon/wikipedia-movie-plots) dataset, that  contains descriptions of 34,886 movies from around the world, scraped from Wikipedia."
   ]
  },
  {
   "cell_type": "markdown",
   "id": "6d26e8eb-57f2-479d-b0ec-41191e5a0fec",
   "metadata": {},
   "source": [
    "## Import packages\n",
    "* To begin with, we will import the packages and modules, that we will use in the following segments of this notebook:\n",
    "    * [pandas](https://pandas.pydata.org/)\n",
    "    * [NumPy](https://numpy.org/)\n",
    "    * [pickle](https://docs.python.org/3/library/pickle.html)\n",
    "    * [SciPy](https://scipy.org/)\n",
    "    * [seaborn](https://seaborn.pydata.org/)\n",
    "    * [re](https://docs.python.org/3/library/re.html)\n",
    "    * [nltk](https://www.nltk.org/)\n",
    "    * [spaCy](https://spacy.io/)\n",
    "    * [scikit-learn](https://scikit-learn.org/stable/)"
   ]
  },
  {
   "cell_type": "code",
   "execution_count": 1,
   "id": "2434816e-7960-49e0-9d3e-591ebbeb4e06",
   "metadata": {},
   "outputs": [],
   "source": [
    "import pandas as pd\n",
    "import numpy as np\n",
    "import pickle\n",
    "from scipy import stats\n",
    "import matplotlib.pyplot as plt\n",
    "import seaborn as sns\n",
    "\n",
    "import re\n",
    "\n",
    "import nltk\n",
    "from nltk.corpus import stopwords\n",
    "from nltk.tokenize import word_tokenize\n",
    "from nltk.corpus import wordnet\n",
    "from nltk.stem import WordNetLemmatizer\n",
    "\n",
    "import spacy\n",
    "\n",
    "from sklearn.model_selection import train_test_split\n",
    "from sklearn.feature_extraction.text import CountVectorizer, TfidfVectorizer\n",
    "from sklearn.naive_bayes import MultinomialNB\n",
    "from sklearn.linear_model import LogisticRegression\n",
    "from sklearn.pipeline import Pipeline\n",
    "from sklearn.metrics import accuracy_score, classification_report, confusion_matrix"
   ]
  },
  {
   "cell_type": "markdown",
   "id": "d08c171b-4c62-4355-ae81-73ec494ff9a7",
   "metadata": {},
   "source": [
    "## Load the data\n",
    "* Following, we will load the data that we prepared in the <code>./data_preparation.ipynb</code> notebook.\n",
    "* These include:\n",
    "    * The **plots**: will be used as the independent variables of the classification (X)\n",
    "    * The **genres (encoded)** of each plot: will be used as labels (Y)\n",
    "    * The **encoding** of the genres\n",
    "* *Note: the rows that refer to drama and comedy genres were kept for this task.*"
   ]
  },
  {
   "cell_type": "code",
   "execution_count": 2,
   "id": "4d0eaec5-c965-4262-9e61-84b7059cdec1",
   "metadata": {},
   "outputs": [],
   "source": [
    "X = np.load('./data/classification/plots.npy', allow_pickle=True)\n",
    "y = np.load('./data/classification/genres_encoded.npy', allow_pickle=True)\n",
    "with open('./data/classification/genre_encoding.pickle', 'rb') as file:\n",
    "    label_encoding = pickle.load(file)"
   ]
  },
  {
   "cell_type": "markdown",
   "id": "03e21388-6330-484a-a50a-447615c28cb1",
   "metadata": {},
   "source": [
    "* Let's have a quick look at some of the plot-genre pairs"
   ]
  },
  {
   "cell_type": "code",
   "execution_count": 3,
   "id": "3eebcf73-394b-422b-952a-382c031a1694",
   "metadata": {},
   "outputs": [
    {
     "name": "stdout",
     "output_type": "stream",
     "text": [
      "===Plot===\n",
      "The film is about a family who move to the suburbs, hoping for a quiet life. Things start to go wrong, and the wife gets violent and starts throwing crockery, leading to her arrest.\n",
      "===> comedy\n",
      "\n",
      "===Plot===\n",
      "Before heading out to a baseball game at a nearby ballpark, sports fan Mr. Brown drinks several highball cocktails. He arrives at the ballpark to watch the game, but has become so inebriated that the game appears to him in reverse, with the players running the bases backwards and the baseball flying back into the pitcher's hand. After the game is over, Mr. Brown is escorted home by one of his friends. When they arrive at Brown's house, they encounter his wife who becomes furious with the friend and proceeds to physically assault him, believing he is responsible for her husband's severe intoxication.[1]\n",
      "===> comedy\n",
      "\n",
      "===Plot===\n",
      "The plot is that of a black woman going to the dentist for a toothache and being given laughing gas. On her way walking home, and in other situations, she can't stop laughing, and everyone she meets \"catches\" the laughter from her, including a vendor and police officers.\n",
      "===> comedy\n",
      "\n",
      "===Plot===\n",
      "On a beautiful summer day a father and mother take their daughter Dollie on an outing to the river. The mother refuses to buy a gypsy's wares. The gypsy tries to rob the mother, but the father drives him off. The gypsy returns to the camp and devises a plan. They return and kidnap Dollie while her parents are distracted. A rescue crew is organized, but the gypsy takes Dollie to his camp. They gag Dollie and hide her in a barrel before the rescue party gets to the camp. Once they leave the gypsies and escapes in their wagon. As the wagon crosses the river, the barrel falls into the water. Still sealed in the barrel, Dollie is swept downstream in dangerous currents. A boy who is fishing in the river finds the barrel, and Dollie is reunited safely with her parents.\n",
      "===> drama\n",
      "\n",
      "===Plot===\n",
      "A thug accosts a girl as she leaves her workplace but a man rescues her. The thug vows revenge and, with the help of two friends, attacks the girl and her rescuer again as they're going for a walk. This time they succeed in kidnapping the rescuer. He is bound and gagged and taken away in a cart. The girl runs home and gets help from several neighbors. They track the ruffians down to a cabin in the mountains where the gang has trapped their victim and set the cabin on fire. A thug and Rescuer fight on the roof of the house.\n",
      "===> drama\n",
      "\n"
     ]
    }
   ],
   "source": [
    "for i in range(5):\n",
    "    print(('===Plot===\\n'\n",
    "            f'{X[i]}\\n'\n",
    "            f'===> {label_encoding[y[i]]}\\n'))"
   ]
  },
  {
   "cell_type": "markdown",
   "id": "c994a542-75c6-410d-9695-190c830ab297",
   "metadata": {},
   "source": [
    "* Here, from the second plot we can see that it is **not always very obvious the genre of the movie**. Given this violent description here, possibly comedy would not be the first genre that would come to someone's mind.\n",
    "* We can also have a look at the number of records that refer to each genre.\n",
    "* Let's do that using a barchart."
   ]
  },
  {
   "cell_type": "code",
   "execution_count": 4,
   "id": "0486f589-64e7-4698-83fb-281724527dda",
   "metadata": {},
   "outputs": [
    {
     "data": {
      "image/png": "[encoded data removed]",
      "text/plain": [
       "<Figure size 640x480 with 1 Axes>"
      ]
     },
     "metadata": {},
     "output_type": "display_data"
    }
   ],
   "source": [
    "# get the counts for each label\n",
    "unique_labels, label_counts = np.unique(y, return_counts=True)\n",
    "\n",
    "#get the genres that correspond the each of the <code>unique_labels</code>\n",
    "label_genres = np.vectorize(lambda x: label_encoding[x])(unique_labels)\n",
    "\n",
    "fig, ax = plt.subplots()\n",
    "ax.bar(label_genres, label_counts)\n",
    "ax.set_xlabel('Genre')\n",
    "ax.set_ylabel('Count')\n",
    "ax.set_title('Number of records per Genre')\n",
    "plt.xticks(rotation=45) # rotate the x-axis labels for better visibility\n",
    "\n",
    "plt.show()"
   ]
  },
  {
   "cell_type": "markdown",
   "id": "495fb0bf-e89d-4e98-9a54-54f1e979c0a7",
   "metadata": {},
   "source": [
    "* It looks like more *drama* movies are included in the dataset.\n",
    "* We have to keep this in mind in case we have to handle this imbalance later."
   ]
  },
  {
   "cell_type": "markdown",
   "id": "2ada96df-0c15-484c-a083-e17e3ef35c1b",
   "metadata": {},
   "source": [
    "## Helper methods\n",
    "* Before starting with the modeling, it will be helpful to write some helper methods that we will use throghout this notebook."
   ]
  },
  {
   "cell_type": "code",
   "execution_count": 63,
   "id": "605bec58-c711-43c1-a526-eba3df1f61c4",
   "metadata": {},
   "outputs": [],
   "source": [
    "def plot_confusion_matrix(confusion_matrix, labels):\n",
    "    # Normalize the confusion matrix\n",
    "    confusion_matrix = confusion_matrix.astype('float') / confusion_matrix.sum(axis=1)[:, np.newaxis]\n",
    "\n",
    "    # Set up the plot\n",
    "    fig, ax = plt.subplots()\n",
    "    sns.set(font_scale=1.2)\n",
    "\n",
    "    # Create a heatmap for the confusion matrix\n",
    "    heatmap = sns.heatmap(confusion_matrix, annot=True, cmap='Blues', fmt='.2f', xticklabels=labels, yticklabels=labels)\n",
    "\n",
    "    # Set axis labels and title\n",
    "    ax.set_xlabel('Predicted')\n",
    "    ax.set_ylabel('True')\n",
    "    ax.set_title('Confusion Matrix')\n",
    "\n",
    "    # Rotate the x-axis labels for better visibility\n",
    "    plt.xticks(rotation=45)\n",
    "\n",
    "    # Show the plot\n",
    "    plt.show()\n",
    "\n",
    "def print_performance_metrics(y_test, y_pred, labels):\n",
    "    #print accuracy\n",
    "    accuracy = accuracy_score(y_test, y_pred)\n",
    "    print(\"Accuracy:\", accuracy)\n",
    "    \n",
    "    # plot a confusion matrix\n",
    "    conf_matrix = confusion_matrix(y_test, y_pred)\n",
    "    print(\"Confusion Matrix:\\n\")\n",
    "    plot_confusion_matrix(conf_matrix, labels)\n",
    "    \n",
    "    # print a classification report that included details about precision, recall, f1-score and support\n",
    "    report = classification_report(y_test, y_pred)\n",
    "    print(\"Classification Report:\\n\", report)"
   ]
  },
  {
   "cell_type": "markdown",
   "id": "d08aa815-2d73-4889-8a9a-fac8dc7e85c9",
   "metadata": {},
   "source": [
    "## Simple Text Classification Algorithms\n",
    "* In this section of the notebook, we will explore the fundamentals of text classification using **simpler machine learning algorithms***.\n",
    "* These straightforward yet effective models, include:\n",
    "    * Naive Bayes\n",
    "    * Logistic Regression\n",
    "    * Support Vector Machines (SVM)\n",
    "* We will first execute the **preprocessing steps** required to apply these algorithms.\n",
    "* These foundational models will provide a solid foundation for later exploring more advanced techniques in text classification."
   ]
  },
  {
   "cell_type": "markdown",
   "id": "7d395316-651d-49f9-93bd-9c7e83f2331c",
   "metadata": {},
   "source": [
    "### Preprocessing\n",
    "* Before applying machine learning algorithms for text classification, it's essential to **prepare** and **clean** the text data effectively.\n",
    "* Text preprocessing involves transforming raw text data into a **structured** format that can be used by these simpler machine learning models."
   ]
  },
  {
   "cell_type": "markdown",
   "id": "c8a6912a-06c9-4d71-a4e8-5aba1bd7c69e",
   "metadata": {},
   "source": [
    "#### 1. Text cleaning\n",
    "* Text cleaning includes:\n",
    "  1. Removal of any **special characters**, **symbols**, and **punctuation marks** from the text.\n",
    "  3. Removal **common stopwords (e.g., \"the,\" \"and,\" \"is,\" \"in\")** as they often do not carry significant meaning for classification.\n",
    "  4. Conversion of all words to **lowercase**. This ensures that \"word\" and \"Word\" are treated as the same word, reducing feature dimensionality.\n",
    "  5. Application of **stemming** to the words included in the plots.\n",
    "* The characters and words mentioned above, typically don't contribute much to the classification task using these simpler algorithms and can be safely removed."
   ]
  },
  {
   "cell_type": "markdown",
   "id": "776e15c1-ace4-4792-81a2-994384c0c558",
   "metadata": {},
   "source": [
    "* First, we will create a function that removes special characters, symbols and punctuation marks from the plots' descriptions.\n",
    "* We will do that using **[regular expressions (regex)](https://en.wikipedia.org/wiki/Regular_expression)**.\n",
    "* In specific, the regular expression that specifies the characters that we want is <code>[^A-Za-z0-9\\s]</code>, which means all the characters that are **not** letters, numbers or whitespace."
   ]
  },
  {
   "cell_type": "code",
   "execution_count": 6,
   "id": "f501bf4f-058c-4c56-b825-1b89ae07d5fd",
   "metadata": {},
   "outputs": [],
   "source": [
    "def remove_unnecessary_characters(text):\n",
    "    return re.sub(r'[^A-Za-z0-9\\s]', '', text)"
   ]
  },
  {
   "cell_type": "markdown",
   "id": "de955eeb-5cbb-4183-91f5-f24a785a66cf",
   "metadata": {},
   "source": [
    "* Then we will create a function that removes common stopwords of the English language.\n",
    "* To do that we will use the stopwords that are included into the [nltk](https://www.nltk.org/) library.\n",
    "* *Note: in order the do that we have to download the stopwords for english and tokenization packages of ntlk.*"
   ]
  },
  {
   "cell_type": "code",
   "execution_count": 7,
   "id": "c51e9e6d-19dc-4542-a94e-2214fbf8dfb6",
   "metadata": {},
   "outputs": [
    {
     "name": "stderr",
     "output_type": "stream",
     "text": [
      "[nltk_data] Downloading package stopwords to\n",
      "[nltk_data]     C:\\Users\\BT314MC\\AppData\\Roaming\\nltk_data...\n",
      "[nltk_data]   Package stopwords is already up-to-date!\n",
      "[nltk_data] Downloading package punkt to\n",
      "[nltk_data]     C:\\Users\\BT314MC\\AppData\\Roaming\\nltk_data...\n",
      "[nltk_data]   Package punkt is already up-to-date!\n"
     ]
    }
   ],
   "source": [
    "nltk.download('stopwords')\n",
    "nltk.download('punkt')\n",
    "stop_words = set(stopwords.words('english'))\n",
    "\n",
    "def remove_stopwords(text):\n",
    "    words = word_tokenize(text) # tokenize the words of the given text\n",
    "    cleaned_words = [word for word in words if word.lower() not in stop_words] # remove stopwords\n",
    "    cleaned_text = ' '.join(cleaned_words) # join cleaned words back to text\n",
    "    return cleaned_text"
   ]
  },
  {
   "cell_type": "markdown",
   "id": "d84bd80a-7386-4b46-b8d8-611c7998b397",
   "metadata": {},
   "source": [
    "* Moving on, we will create a function to convert a text to lowercase."
   ]
  },
  {
   "cell_type": "code",
   "execution_count": 8,
   "id": "6ac77fd1-a0c6-4db2-8e53-753faad186e6",
   "metadata": {},
   "outputs": [],
   "source": [
    "def convert_to_lowercase(text):\n",
    "    return text.lower()"
   ]
  },
  {
   "cell_type": "markdown",
   "id": "ead01915-5e82-4a82-b52b-c123da249929",
   "metadata": {},
   "source": [
    "* Next we will create a function for lemmatization. We will again use the [nltk](https://www.nltk.org/) library for this task, and specifically the <code>WordNetLemmatizer</code>.\n",
    "* Lemmatization is a **text normalization** technique used in natural language processing (NLP) and information retrieval and aims to reduce words to their dictionary or lemma form.\n",
    "* Lemmatization helps reduce the dimensionality of text data and improve the performance of various NLP tasks.\n",
    "* *Note: another very frequently used text normalization tecnhnique is **stemming**, which aims to reduce words to their base or root form by removing suffixes. Here lemmatization was chosen because it is considered more accurate and linguistically grounded.*"
   ]
  },
  {
   "cell_type": "code",
   "execution_count": 9,
   "id": "ddb10d3a-6a96-43ff-8b54-7b96101b8a43",
   "metadata": {},
   "outputs": [
    {
     "name": "stderr",
     "output_type": "stream",
     "text": [
      "[nltk_data] Downloading package averaged_perceptron_tagger to\n",
      "[nltk_data]     C:\\Users\\BT314MC\\AppData\\Roaming\\nltk_data...\n",
      "[nltk_data]   Package averaged_perceptron_tagger is already up-to-\n",
      "[nltk_data]       date!\n",
      "[nltk_data] Downloading package wordnet to\n",
      "[nltk_data]     C:\\Users\\BT314MC\\AppData\\Roaming\\nltk_data...\n",
      "[nltk_data]   Package wordnet is already up-to-date!\n"
     ]
    }
   ],
   "source": [
    "nltk.download('averaged_perceptron_tagger')\n",
    "nltk.download('wordnet')\n",
    "\n",
    "# Define a function to convert NLTK part-of-speech tags to WordNet tags,\n",
    "# it will be used later as an argument of the <code>lemmatize</code> method of the lemmatizer\n",
    "def get_wordnet_pos(word):\n",
    "    tag = nltk.pos_tag([word])[0][1][0].upper()\n",
    "    tag_dict = {\"J\": wordnet.ADJ, \"N\": wordnet.NOUN, \"V\": wordnet.VERB, \"R\": wordnet.ADV}\n",
    "    return tag_dict.get(tag, wordnet.NOUN)  # Default to noun if not found\n",
    "    \n",
    "def apply_lemmatization(text):\n",
    "    lemmatizer = WordNetLemmatizer()\n",
    "    words = word_tokenize(text) # tokenize the words of the given text\n",
    "    lemmatized_words = [lemmatizer.lemmatize(word, get_wordnet_pos(word)) for word in words] # Lemmatize each word\n",
    "    lemmatized_text = ' '.join(lemmatized_words) # join lemmatized words back to text\n",
    "    return lemmatized_text"
   ]
  },
  {
   "cell_type": "markdown",
   "id": "9ca97bc6-32f6-4216-aa8e-1941c4b11ab3",
   "metadata": {},
   "source": [
    "* Now that we have created all the functions we need for cleaning we can create a function that applies them all to a given text."
   ]
  },
  {
   "cell_type": "code",
   "execution_count": 10,
   "id": "48c207fd-0295-4e2e-b0eb-c85ab743c0d6",
   "metadata": {},
   "outputs": [],
   "source": [
    "def clean_text(text):\n",
    "    cleaning_functions = [remove_unnecessary_characters, remove_stopwords, convert_to_lowercase, apply_lemmatization]\n",
    "    cleaned_text = text\n",
    "    for cl_func in cleaning_functions:\n",
    "        cleaned_text = cl_func(cleaned_text)\n",
    "    return cleaned_text"
   ]
  },
  {
   "cell_type": "markdown",
   "id": "e17f5491-c438-48cc-9864-5d07ec5e3b44",
   "metadata": {},
   "source": [
    "* Now we can apply this function to our <code>X</code> variable that includes the plots of the movies.\n",
    "* **The line performing the cleaning is commented out, as it is very time consuming. Its outcome was saved in a file and then read out of it to continue with the rest of the procedure.**"
   ]
  },
  {
   "cell_type": "code",
   "execution_count": 11,
   "id": "fd45d6a7-bd35-4756-b0f5-ea92feeb2f8b",
   "metadata": {},
   "outputs": [
    {
     "name": "stdout",
     "output_type": "stream",
     "text": [
      "===Plot===\n",
      "film family move suburb hop quiet life thing start go wrong wife get violent start throw crockery lead arrest\n",
      "===> comedy\n",
      "\n",
      "===Plot===\n",
      "head baseball game nearby ballpark sport fan mr brown drink several highball cocktail arrives ballpark watch game become inebriate game appear reverse player run base backwards baseball fly back pitcher hand game mr brown escort home one friend arrive brown house encounter wife becomes furious friend proceeds physically assault believe responsible husband severe intoxication1\n",
      "===> comedy\n",
      "\n",
      "===Plot===\n",
      "plot black woman go dentist toothache give laugh gas way walk home situation cant stop laugh everyone meet catch laughter include vendor police officer\n",
      "===> comedy\n",
      "\n",
      "===Plot===\n",
      "beautiful summer day father mother take daughter dollie out river mother refuse buy gypsy ware gypsy try rob mother father drive gypsy return camp devise plan return kidnap dollie parent distract rescue crew organize gypsy take dollie camp gag dollie hide barrel rescue party get camp leave gypsy escape wagon wagon cross river barrel fall water still seal barrel dollie swept downstream dangerous current boy fishing river find barrel dollie reunite safely parent\n",
      "===> drama\n",
      "\n",
      "===Plot===\n",
      "thug accosts girl leaf workplace man rescue thug vow revenge help two friend attack girl rescuer theyre go walk time succeed kidnapping rescuer bound gag take away cart girl run home get help several neighbor track ruffian cabin mountain gang trap victim set cabin fire thug rescuer fight roof house\n",
      "===> drama\n",
      "\n"
     ]
    }
   ],
   "source": [
    "#cleaned_X = np.array([clean_text(plot) for plot in X])\n",
    "cleaned_X = X = np.load('./data/classification/cleaned_plots.npy', allow_pickle=True)\n",
    "\n",
    "for i in range(5):\n",
    "    print(('===Plot===\\n'\n",
    "            f'{cleaned_X[i]}\\n'\n",
    "            f'===> {label_encoding[y[i]]}\\n'))"
   ]
  },
  {
   "cell_type": "markdown",
   "id": "5128a410-8c4e-4177-a415-6621bfe6dd20",
   "metadata": {},
   "source": [
    "* As lemmatization is a time-consuming procedure we will extract the cleaned data.\n",
    "* *Note: we save the array as of object type because it is more memory efficient in our case because of the varying string length of the plots. More specifically, it is more than 10 times smaller in size this way.*\n",
    "* **The following line is also commented out in order not to extract the cleaned_plots array every time we execute the code.**"
   ]
  },
  {
   "cell_type": "code",
   "execution_count": 12,
   "id": "e849dd16-dcea-48df-a6c4-3aea0f1b8979",
   "metadata": {},
   "outputs": [],
   "source": [
    "#np.save('./data/classification/cleaned_plots.npy', cleaned_X.astype('O'))"
   ]
  },
  {
   "cell_type": "markdown",
   "id": "ebc88042-853d-4eaf-b7c8-097d4e4e6e59",
   "metadata": {},
   "source": [
    "#### 2. Train-Test Split\n",
    "* At this point, and because the following steps require training, it is necessary to **split the data into a train and a test set**.\n",
    "* This will allow us to evaluate the actual performance of the algorithm."
   ]
  },
  {
   "cell_type": "code",
   "execution_count": 13,
   "id": "743bbdad-d1c1-4cde-b0a2-0dbee823a1eb",
   "metadata": {},
   "outputs": [
    {
     "data": {
      "text/plain": [
       "(8274, 2069)"
      ]
     },
     "execution_count": 13,
     "metadata": {},
     "output_type": "execute_result"
    }
   ],
   "source": [
    "cleaned_X_train, cleaned_X_test, y_train, y_test = train_test_split(cleaned_X, y, test_size=0.2, random_state=42)\n",
    "len(cleaned_X_train), len(cleaned_X_test)"
   ]
  },
  {
   "cell_type": "markdown",
   "id": "21a881ef-a14c-4f71-8888-6d21e2961a24",
   "metadata": {},
   "source": [
    "#### 3. Vectorization\n",
    "* In this section, we will use techniques to **transform words into numerical features**, providing the foundation for text-based machine learning models.\n",
    "* Specifically, we will use:\n",
    "    1. Bag of Words (BoW)\n",
    "    2. TF-IDF\n",
    "    3. Word embeddingsels."
   ]
  },
  {
   "cell_type": "markdown",
   "id": "06c84ceb-faa5-4fd2-b4a3-33c00dafa1a5",
   "metadata": {},
   "source": [
    "##### Bag of Words (BoW)\n",
    "* The Bag of Words (BoW) model is a **commonly used technique** in natural language processing (NLP) to represent text data as a numerical feature vector. \n",
    "* It simplifies the text data by discarding the order and structure of the words and focuses solely on their **frequencies** or **occurrences**.\n",
    "* An overview of the steps involved in creating a bag-of-words representation is the following:\n",
    "    1. *Tokenization*: Split the text into individual words or tokens. This step typically involves removing punctuation and splitting the text based on whitespace.\n",
    "    2. *Vocabulary Creation*: Create a vocabulary by collecting all unique words (tokens) from the text corpus. Each word in the vocabulary becomes a feature.\n",
    "    3. *Encoding*: Encode each document or text instance into a numerical feature vector. The length of the feature vector is equal to the size of the vocabulary. The value in each feature represents the frequency or occurrence of the corresponding word in the document.\n",
    "    4. *Vectorization*: Create a matrix representation where each row corresponds to a document, and each column represents a word from the vocabulary. The elements of the matrix are the word frequencies or occurrences.\n",
    "* In **Python** we can implement the BoW model using the <code>sklearn.feature_extraction.text.CountVectorizer</code> class.\n",
    "* After the BoW representation has been generated we can use it as **input for various machine learning algorithms**."
   ]
  },
  {
   "cell_type": "code",
   "execution_count": 14,
   "id": "a9fc787a-f886-4b40-ac41-cfaac2af12dc",
   "metadata": {},
   "outputs": [],
   "source": [
    "bow_vectorizer = CountVectorizer()"
   ]
  },
  {
   "cell_type": "markdown",
   "id": "8493c661-1eac-4d53-9a77-91c31faed0bb",
   "metadata": {},
   "source": [
    "* We will use this vectorizer as part of a **Pipeline** in the following section, so we will not train it at this point.\n",
    "* **The same thing applies for the vectorizers that we will create moving on too.**"
   ]
  },
  {
   "cell_type": "markdown",
   "id": "1f54f215-ee8e-4fbc-9cb7-df3a8237a831",
   "metadata": {},
   "source": [
    "##### TF-IDF (Term Frequency-Inverse Document Frequency)\n",
    "* TF-IDF, short for Term Frequency-Inverse Document Frequency, is a fundamental text analysis technique used in Natural Language Processing (NLP).\n",
    "* It is designed to measure the **importance of words** within a document or a corpus by considering both their **frequency** within a document and their **rarity** across the entire corpus.\n",
    "* The TF-IDF formula calculates a weight for each word, where:\n",
    "    - **Term Frequency (TF)** measures how often a word appears in a document. More frequent words receive higher scores.\n",
    "    - **Inverse Document Frequency (IDF)** measures how rare a word is across the entire corpus. Words that appear in many documents receive lower scores.\n",
    "* The TF-IDF score reflects the significance of a word in a specific document relative to its importance in the entire dataset.\n",
    "* TF-IDF is particularly useful for text-based information retrieval, document ranking, and text classification tasks.\n",
    "* In practice, libraries like scikit-learn provide the <code>sklearn.feature_extraction.text.TfidfVectorizer</code> class to compute TF-IDF representations from text data.\n",
    "* Once TF-IDF representations are generated, they can be used as input for machine learning algorithms, especially for tasks that **require understanding the importance of words** within documents."
   ]
  },
  {
   "cell_type": "code",
   "execution_count": 15,
   "id": "cbb47090-5525-443f-a85d-6d24c61c060b",
   "metadata": {},
   "outputs": [],
   "source": [
    "tf_idf_vectorizer = TfidfVectorizer()"
   ]
  },
  {
   "cell_type": "markdown",
   "id": "158df890-462a-44e8-8864-1a9ebb628e53",
   "metadata": {},
   "source": [
    "##### Word Embeddings\n",
    "* Word embeddings are a transformative technique in NLP used to **represent words as dense numerical vectors**.\n",
    "* Unlike traditional text representations like Bag of Words (BoW), word embeddings capture the **semantic relationships** between words, allowing words with similar meanings to have similar vector representations.\n",
    "* Word embeddings are often **pre-trained on large text corpora**, learning context-based word representations.\n",
    "* In our case we will use the [spaCy](https://spacy.io/) library to get the pre-trained embeddings, and we will create a *custom embedding vectorizer* based on these embeddings."
   ]
  },
  {
   "cell_type": "code",
   "execution_count": 72,
   "id": "0d4bd246-2985-4b80-b91f-7aa88091b1e4",
   "metadata": {},
   "outputs": [],
   "source": [
    "nlp = spacy.load('en_core_web_md')\n",
    "\n",
    "# Create a custom vectorizer to obtain word vectors for each word in a text\n",
    "class EmbeddingVectorizer:\n",
    "    def __init__(self, nlp):\n",
    "        self.nlp = nlp\n",
    "    \n",
    "    def fit(self, X, y=None):\n",
    "        return self\n",
    "    \n",
    "    def transform(self, X):\n",
    "        return [self.nlp(text).vector for text in X]\n",
    "\n",
    "emb_vectorizer = EmbeddingVectorizer(nlp)"
   ]
  },
  {
   "cell_type": "markdown",
   "id": "664a5e44-4b6c-42a8-8be1-0736a3575168",
   "metadata": {},
   "source": [
    "### Classification\n",
    "* In this phase, we employ three classification methods, to discern **patterns** and make informed predictions from our textual data.\n",
    "* The classification methods that will be used are:\n",
    "    1. Naive-Bayes\n",
    "    2. Logistic Regression\n",
    "    3. Support Vector Machines\n",
    "* For each of this algorithms we will use all the three vectorization algorithms that we looked previously, to see which combination produces the best results.\n",
    "* In this section we will create <code>Pipelines</code> that will take as input the clean data, and they will apply the **vectorization** step and the **classification** of the plots. We do that because both the vectorization (except Embeddings) and the classification algorithms require **training**, that will be performed for the whole pipeline."
   ]
  },
  {
   "cell_type": "markdown",
   "id": "9ffcc743-dd24-4b63-9f7b-c8c713021a09",
   "metadata": {},
   "source": [
    "#### 1. Naive-Bayes\n",
    "* Naive Bayes is a classification algorithm based on **Bayes' theorem** and the **assumption of conditional independence** between features.\n",
    "* It is commonly used in machine learning for text classification and spam filtering tasks. Despite its simplicity, Naive Bayes often **performs well** and is **computationally efficient**.\n",
    "* So, let's create the Pipelines and do the training. To view different evaluation metrics of the model, we will use the helper methods that we created in the beginning."
   ]
  },
  {
   "cell_type": "markdown",
   "id": "eb8a85c8-129a-4cfd-acb5-ae1457f700a6",
   "metadata": {},
   "source": [
    "#### Bag of Words\n",
    "* Let's create the first Pipeline that applies Bag of Words vectorization and Naive-Bayes classification."
   ]
  },
  {
   "cell_type": "code",
   "execution_count": 65,
   "id": "1f273454-8dfe-4275-87ba-eaa02701bac6",
   "metadata": {},
   "outputs": [
    {
     "data": {
      "text/html": [
       "<style>#sk-container-id-6 {color: black;}#sk-container-id-6 pre{padding: 0;}#sk-container-id-6 div.sk-toggleable {background-color: white;}#sk-container-id-6 label.sk-toggleable__label {cursor: pointer;display: block;width: 100%;margin-bottom: 0;padding: 0.3em;box-sizing: border-box;text-align: center;}#sk-container-id-6 label.sk-toggleable__label-arrow:before {content: \"▸\";float: left;margin-right: 0.25em;color: #696969;}#sk-container-id-6 label.sk-toggleable__label-arrow:hover:before {color: black;}#sk-container-id-6 div.sk-estimator:hover label.sk-toggleable__label-arrow:before {color: black;}#sk-container-id-6 div.sk-toggleable__content {max-height: 0;max-width: 0;overflow: hidden;text-align: left;background-color: #f0f8ff;}#sk-container-id-6 div.sk-toggleable__content pre {margin: 0.2em;color: black;border-radius: 0.25em;background-color: #f0f8ff;}#sk-container-id-6 input.sk-toggleable__control:checked~div.sk-toggleable__content {max-height: 200px;max-width: 100%;overflow: auto;}#sk-container-id-6 input.sk-toggleable__control:checked~label.sk-toggleable__label-arrow:before {content: \"▾\";}#sk-container-id-6 div.sk-estimator input.sk-toggleable__control:checked~label.sk-toggleable__label {background-color: #d4ebff;}#sk-container-id-6 div.sk-label input.sk-toggleable__control:checked~label.sk-toggleable__label {background-color: #d4ebff;}#sk-container-id-6 input.sk-hidden--visually {border: 0;clip: rect(1px 1px 1px 1px);clip: rect(1px, 1px, 1px, 1px);height: 1px;margin: -1px;overflow: hidden;padding: 0;position: absolute;width: 1px;}#sk-container-id-6 div.sk-estimator {font-family: monospace;background-color: #f0f8ff;border: 1px dotted black;border-radius: 0.25em;box-sizing: border-box;margin-bottom: 0.5em;}#sk-container-id-6 div.sk-estimator:hover {background-color: #d4ebff;}#sk-container-id-6 div.sk-parallel-item::after {content: \"\";width: 100%;border-bottom: 1px solid gray;flex-grow: 1;}#sk-container-id-6 div.sk-label:hover label.sk-toggleable__label {background-color: #d4ebff;}#sk-container-id-6 div.sk-serial::before {content: \"\";position: absolute;border-left: 1px solid gray;box-sizing: border-box;top: 0;bottom: 0;left: 50%;z-index: 0;}#sk-container-id-6 div.sk-serial {display: flex;flex-direction: column;align-items: center;background-color: white;padding-right: 0.2em;padding-left: 0.2em;position: relative;}#sk-container-id-6 div.sk-item {position: relative;z-index: 1;}#sk-container-id-6 div.sk-parallel {display: flex;align-items: stretch;justify-content: center;background-color: white;position: relative;}#sk-container-id-6 div.sk-item::before, #sk-container-id-6 div.sk-parallel-item::before {content: \"\";position: absolute;border-left: 1px solid gray;box-sizing: border-box;top: 0;bottom: 0;left: 50%;z-index: -1;}#sk-container-id-6 div.sk-parallel-item {display: flex;flex-direction: column;z-index: 1;position: relative;background-color: white;}#sk-container-id-6 div.sk-parallel-item:first-child::after {align-self: flex-end;width: 50%;}#sk-container-id-6 div.sk-parallel-item:last-child::after {align-self: flex-start;width: 50%;}#sk-container-id-6 div.sk-parallel-item:only-child::after {width: 0;}#sk-container-id-6 div.sk-dashed-wrapped {border: 1px dashed gray;margin: 0 0.4em 0.5em 0.4em;box-sizing: border-box;padding-bottom: 0.4em;background-color: white;}#sk-container-id-6 div.sk-label label {font-family: monospace;font-weight: bold;display: inline-block;line-height: 1.2em;}#sk-container-id-6 div.sk-label-container {text-align: center;}#sk-container-id-6 div.sk-container {/* jupyter's `normalize.less` sets `[hidden] { display: none; }` but bootstrap.min.css set `[hidden] { display: none !important; }` so we also need the `!important` here to be able to override the default hidden behavior on the sphinx rendered scikit-learn.org. See: https://github.com/scikit-learn/scikit-learn/issues/21755 */display: inline-block !important;position: relative;}#sk-container-id-6 div.sk-text-repr-fallback {display: none;}</style><div id=\"sk-container-id-6\" class=\"sk-top-container\"><div class=\"sk-text-repr-fallback\"><pre>Pipeline(steps=[(&#x27;vect&#x27;, CountVectorizer()), (&#x27;clf&#x27;, MultinomialNB())])</pre><b>In a Jupyter environment, please rerun this cell to show the HTML representation or trust the notebook. <br />On GitHub, the HTML representation is unable to render, please try loading this page with nbviewer.org.</b></div><div class=\"sk-container\" hidden><div class=\"sk-item sk-dashed-wrapped\"><div class=\"sk-label-container\"><div class=\"sk-label sk-toggleable\"><input class=\"sk-toggleable__control sk-hidden--visually\" id=\"sk-estimator-id-16\" type=\"checkbox\" ><label for=\"sk-estimator-id-16\" class=\"sk-toggleable__label sk-toggleable__label-arrow\">Pipeline</label><div class=\"sk-toggleable__content\"><pre>Pipeline(steps=[(&#x27;vect&#x27;, CountVectorizer()), (&#x27;clf&#x27;, MultinomialNB())])</pre></div></div></div><div class=\"sk-serial\"><div class=\"sk-item\"><div class=\"sk-estimator sk-toggleable\"><input class=\"sk-toggleable__control sk-hidden--visually\" id=\"sk-estimator-id-17\" type=\"checkbox\" ><label for=\"sk-estimator-id-17\" class=\"sk-toggleable__label sk-toggleable__label-arrow\">CountVectorizer</label><div class=\"sk-toggleable__content\"><pre>CountVectorizer()</pre></div></div></div><div class=\"sk-item\"><div class=\"sk-estimator sk-toggleable\"><input class=\"sk-toggleable__control sk-hidden--visually\" id=\"sk-estimator-id-18\" type=\"checkbox\" ><label for=\"sk-estimator-id-18\" class=\"sk-toggleable__label sk-toggleable__label-arrow\">MultinomialNB</label><div class=\"sk-toggleable__content\"><pre>MultinomialNB()</pre></div></div></div></div></div></div></div>"
      ],
      "text/plain": [
       "Pipeline(steps=[('vect', CountVectorizer()), ('clf', MultinomialNB())])"
      ]
     },
     "execution_count": 65,
     "metadata": {},
     "output_type": "execute_result"
    }
   ],
   "source": [
    "bow_nb_classifier = Pipeline([\n",
    "    ('vect', bow_vectorizer), \n",
    "    ('clf', MultinomialNB())\n",
    "])\n",
    "bow_nb_classifier"
   ]
  },
  {
   "cell_type": "markdown",
   "id": "68d97003-6997-4864-b76f-c0e23e51ff5f",
   "metadata": {},
   "source": [
    "* Now we have to **train** it."
   ]
  },
  {
   "cell_type": "code",
   "execution_count": 66,
   "id": "54e9a17d-09eb-433b-8dbd-61ad7aed1fd4",
   "metadata": {},
   "outputs": [
    {
     "data": {
      "text/html": [
       "<style>#sk-container-id-7 {color: black;}#sk-container-id-7 pre{padding: 0;}#sk-container-id-7 div.sk-toggleable {background-color: white;}#sk-container-id-7 label.sk-toggleable__label {cursor: pointer;display: block;width: 100%;margin-bottom: 0;padding: 0.3em;box-sizing: border-box;text-align: center;}#sk-container-id-7 label.sk-toggleable__label-arrow:before {content: \"▸\";float: left;margin-right: 0.25em;color: #696969;}#sk-container-id-7 label.sk-toggleable__label-arrow:hover:before {color: black;}#sk-container-id-7 div.sk-estimator:hover label.sk-toggleable__label-arrow:before {color: black;}#sk-container-id-7 div.sk-toggleable__content {max-height: 0;max-width: 0;overflow: hidden;text-align: left;background-color: #f0f8ff;}#sk-container-id-7 div.sk-toggleable__content pre {margin: 0.2em;color: black;border-radius: 0.25em;background-color: #f0f8ff;}#sk-container-id-7 input.sk-toggleable__control:checked~div.sk-toggleable__content {max-height: 200px;max-width: 100%;overflow: auto;}#sk-container-id-7 input.sk-toggleable__control:checked~label.sk-toggleable__label-arrow:before {content: \"▾\";}#sk-container-id-7 div.sk-estimator input.sk-toggleable__control:checked~label.sk-toggleable__label {background-color: #d4ebff;}#sk-container-id-7 div.sk-label input.sk-toggleable__control:checked~label.sk-toggleable__label {background-color: #d4ebff;}#sk-container-id-7 input.sk-hidden--visually {border: 0;clip: rect(1px 1px 1px 1px);clip: rect(1px, 1px, 1px, 1px);height: 1px;margin: -1px;overflow: hidden;padding: 0;position: absolute;width: 1px;}#sk-container-id-7 div.sk-estimator {font-family: monospace;background-color: #f0f8ff;border: 1px dotted black;border-radius: 0.25em;box-sizing: border-box;margin-bottom: 0.5em;}#sk-container-id-7 div.sk-estimator:hover {background-color: #d4ebff;}#sk-container-id-7 div.sk-parallel-item::after {content: \"\";width: 100%;border-bottom: 1px solid gray;flex-grow: 1;}#sk-container-id-7 div.sk-label:hover label.sk-toggleable__label {background-color: #d4ebff;}#sk-container-id-7 div.sk-serial::before {content: \"\";position: absolute;border-left: 1px solid gray;box-sizing: border-box;top: 0;bottom: 0;left: 50%;z-index: 0;}#sk-container-id-7 div.sk-serial {display: flex;flex-direction: column;align-items: center;background-color: white;padding-right: 0.2em;padding-left: 0.2em;position: relative;}#sk-container-id-7 div.sk-item {position: relative;z-index: 1;}#sk-container-id-7 div.sk-parallel {display: flex;align-items: stretch;justify-content: center;background-color: white;position: relative;}#sk-container-id-7 div.sk-item::before, #sk-container-id-7 div.sk-parallel-item::before {content: \"\";position: absolute;border-left: 1px solid gray;box-sizing: border-box;top: 0;bottom: 0;left: 50%;z-index: -1;}#sk-container-id-7 div.sk-parallel-item {display: flex;flex-direction: column;z-index: 1;position: relative;background-color: white;}#sk-container-id-7 div.sk-parallel-item:first-child::after {align-self: flex-end;width: 50%;}#sk-container-id-7 div.sk-parallel-item:last-child::after {align-self: flex-start;width: 50%;}#sk-container-id-7 div.sk-parallel-item:only-child::after {width: 0;}#sk-container-id-7 div.sk-dashed-wrapped {border: 1px dashed gray;margin: 0 0.4em 0.5em 0.4em;box-sizing: border-box;padding-bottom: 0.4em;background-color: white;}#sk-container-id-7 div.sk-label label {font-family: monospace;font-weight: bold;display: inline-block;line-height: 1.2em;}#sk-container-id-7 div.sk-label-container {text-align: center;}#sk-container-id-7 div.sk-container {/* jupyter's `normalize.less` sets `[hidden] { display: none; }` but bootstrap.min.css set `[hidden] { display: none !important; }` so we also need the `!important` here to be able to override the default hidden behavior on the sphinx rendered scikit-learn.org. See: https://github.com/scikit-learn/scikit-learn/issues/21755 */display: inline-block !important;position: relative;}#sk-container-id-7 div.sk-text-repr-fallback {display: none;}</style><div id=\"sk-container-id-7\" class=\"sk-top-container\"><div class=\"sk-text-repr-fallback\"><pre>Pipeline(steps=[(&#x27;vect&#x27;, CountVectorizer()), (&#x27;clf&#x27;, MultinomialNB())])</pre><b>In a Jupyter environment, please rerun this cell to show the HTML representation or trust the notebook. <br />On GitHub, the HTML representation is unable to render, please try loading this page with nbviewer.org.</b></div><div class=\"sk-container\" hidden><div class=\"sk-item sk-dashed-wrapped\"><div class=\"sk-label-container\"><div class=\"sk-label sk-toggleable\"><input class=\"sk-toggleable__control sk-hidden--visually\" id=\"sk-estimator-id-19\" type=\"checkbox\" ><label for=\"sk-estimator-id-19\" class=\"sk-toggleable__label sk-toggleable__label-arrow\">Pipeline</label><div class=\"sk-toggleable__content\"><pre>Pipeline(steps=[(&#x27;vect&#x27;, CountVectorizer()), (&#x27;clf&#x27;, MultinomialNB())])</pre></div></div></div><div class=\"sk-serial\"><div class=\"sk-item\"><div class=\"sk-estimator sk-toggleable\"><input class=\"sk-toggleable__control sk-hidden--visually\" id=\"sk-estimator-id-20\" type=\"checkbox\" ><label for=\"sk-estimator-id-20\" class=\"sk-toggleable__label sk-toggleable__label-arrow\">CountVectorizer</label><div class=\"sk-toggleable__content\"><pre>CountVectorizer()</pre></div></div></div><div class=\"sk-item\"><div class=\"sk-estimator sk-toggleable\"><input class=\"sk-toggleable__control sk-hidden--visually\" id=\"sk-estimator-id-21\" type=\"checkbox\" ><label for=\"sk-estimator-id-21\" class=\"sk-toggleable__label sk-toggleable__label-arrow\">MultinomialNB</label><div class=\"sk-toggleable__content\"><pre>MultinomialNB()</pre></div></div></div></div></div></div></div>"
      ],
      "text/plain": [
       "Pipeline(steps=[('vect', CountVectorizer()), ('clf', MultinomialNB())])"
      ]
     },
     "execution_count": 66,
     "metadata": {},
     "output_type": "execute_result"
    }
   ],
   "source": [
    "bow_nb_classifier.fit(cleaned_X_train, y_train)"
   ]
  },
  {
   "cell_type": "markdown",
   "id": "e31a003f-e463-4a92-a271-6f900e452396",
   "metadata": {},
   "source": [
    "* We can now see how it **performs**."
   ]
  },
  {
   "cell_type": "code",
   "execution_count": 67,
   "id": "ce13f614-ef03-46b4-bc78-bd5261b2f25f",
   "metadata": {},
   "outputs": [
    {
     "name": "stdout",
     "output_type": "stream",
     "text": [
      "Accuracy: 0.7602706621556308\n",
      "Confusion Matrix:\n",
      "\n"
     ]
    },
    {
     "data": {
      "image/png": "[encoded data removed]",
      "text/plain": [
       "<Figure size 640x480 with 2 Axes>"
      ]
     },
     "metadata": {},
     "output_type": "display_data"
    },
    {
     "name": "stdout",
     "output_type": "stream",
     "text": [
      "Classification Report:\n",
      "               precision    recall  f1-score   support\n",
      "\n",
      "           0       0.72      0.71      0.71       875\n",
      "           1       0.79      0.80      0.79      1194\n",
      "\n",
      "    accuracy                           0.76      2069\n",
      "   macro avg       0.75      0.75      0.75      2069\n",
      "weighted avg       0.76      0.76      0.76      2069\n",
      "\n"
     ]
    }
   ],
   "source": [
    "y_pred = bow_nb_classifier.predict(cleaned_X_test)\n",
    "print_performance_metrics(y_test, y_pred, label_encoding.values())"
   ]
  },
  {
   "cell_type": "markdown",
   "id": "bf7bb392-ed71-45ef-8481-fd3144f01a69",
   "metadata": {},
   "source": [
    "* The **accuracy achieved was 76%**, which seems pretty decent for such a simple algorithm.\n",
    "* We will continue to compare the different algorithms."
   ]
  },
  {
   "cell_type": "markdown",
   "id": "830964df-79f7-4990-9aaf-0faab81862be",
   "metadata": {},
   "source": [
    "#### Tf-Idf\n",
    "* Let's create the next Pipeline that applies Tf-Idf vectorization and Naive-Bayes classification."
   ]
  },
  {
   "cell_type": "code",
   "execution_count": 60,
   "id": "f68b89e5-6b9b-449d-a4ca-b9af76fd9691",
   "metadata": {},
   "outputs": [
    {
     "data": {
      "text/html": [
       "<style>#sk-container-id-4 {color: black;}#sk-container-id-4 pre{padding: 0;}#sk-container-id-4 div.sk-toggleable {background-color: white;}#sk-container-id-4 label.sk-toggleable__label {cursor: pointer;display: block;width: 100%;margin-bottom: 0;padding: 0.3em;box-sizing: border-box;text-align: center;}#sk-container-id-4 label.sk-toggleable__label-arrow:before {content: \"▸\";float: left;margin-right: 0.25em;color: #696969;}#sk-container-id-4 label.sk-toggleable__label-arrow:hover:before {color: black;}#sk-container-id-4 div.sk-estimator:hover label.sk-toggleable__label-arrow:before {color: black;}#sk-container-id-4 div.sk-toggleable__content {max-height: 0;max-width: 0;overflow: hidden;text-align: left;background-color: #f0f8ff;}#sk-container-id-4 div.sk-toggleable__content pre {margin: 0.2em;color: black;border-radius: 0.25em;background-color: #f0f8ff;}#sk-container-id-4 input.sk-toggleable__control:checked~div.sk-toggleable__content {max-height: 200px;max-width: 100%;overflow: auto;}#sk-container-id-4 input.sk-toggleable__control:checked~label.sk-toggleable__label-arrow:before {content: \"▾\";}#sk-container-id-4 div.sk-estimator input.sk-toggleable__control:checked~label.sk-toggleable__label {background-color: #d4ebff;}#sk-container-id-4 div.sk-label input.sk-toggleable__control:checked~label.sk-toggleable__label {background-color: #d4ebff;}#sk-container-id-4 input.sk-hidden--visually {border: 0;clip: rect(1px 1px 1px 1px);clip: rect(1px, 1px, 1px, 1px);height: 1px;margin: -1px;overflow: hidden;padding: 0;position: absolute;width: 1px;}#sk-container-id-4 div.sk-estimator {font-family: monospace;background-color: #f0f8ff;border: 1px dotted black;border-radius: 0.25em;box-sizing: border-box;margin-bottom: 0.5em;}#sk-container-id-4 div.sk-estimator:hover {background-color: #d4ebff;}#sk-container-id-4 div.sk-parallel-item::after {content: \"\";width: 100%;border-bottom: 1px solid gray;flex-grow: 1;}#sk-container-id-4 div.sk-label:hover label.sk-toggleable__label {background-color: #d4ebff;}#sk-container-id-4 div.sk-serial::before {content: \"\";position: absolute;border-left: 1px solid gray;box-sizing: border-box;top: 0;bottom: 0;left: 50%;z-index: 0;}#sk-container-id-4 div.sk-serial {display: flex;flex-direction: column;align-items: center;background-color: white;padding-right: 0.2em;padding-left: 0.2em;position: relative;}#sk-container-id-4 div.sk-item {position: relative;z-index: 1;}#sk-container-id-4 div.sk-parallel {display: flex;align-items: stretch;justify-content: center;background-color: white;position: relative;}#sk-container-id-4 div.sk-item::before, #sk-container-id-4 div.sk-parallel-item::before {content: \"\";position: absolute;border-left: 1px solid gray;box-sizing: border-box;top: 0;bottom: 0;left: 50%;z-index: -1;}#sk-container-id-4 div.sk-parallel-item {display: flex;flex-direction: column;z-index: 1;position: relative;background-color: white;}#sk-container-id-4 div.sk-parallel-item:first-child::after {align-self: flex-end;width: 50%;}#sk-container-id-4 div.sk-parallel-item:last-child::after {align-self: flex-start;width: 50%;}#sk-container-id-4 div.sk-parallel-item:only-child::after {width: 0;}#sk-container-id-4 div.sk-dashed-wrapped {border: 1px dashed gray;margin: 0 0.4em 0.5em 0.4em;box-sizing: border-box;padding-bottom: 0.4em;background-color: white;}#sk-container-id-4 div.sk-label label {font-family: monospace;font-weight: bold;display: inline-block;line-height: 1.2em;}#sk-container-id-4 div.sk-label-container {text-align: center;}#sk-container-id-4 div.sk-container {/* jupyter's `normalize.less` sets `[hidden] { display: none; }` but bootstrap.min.css set `[hidden] { display: none !important; }` so we also need the `!important` here to be able to override the default hidden behavior on the sphinx rendered scikit-learn.org. See: https://github.com/scikit-learn/scikit-learn/issues/21755 */display: inline-block !important;position: relative;}#sk-container-id-4 div.sk-text-repr-fallback {display: none;}</style><div id=\"sk-container-id-4\" class=\"sk-top-container\"><div class=\"sk-text-repr-fallback\"><pre>Pipeline(steps=[(&#x27;vect&#x27;, TfidfVectorizer()), (&#x27;clf&#x27;, MultinomialNB())])</pre><b>In a Jupyter environment, please rerun this cell to show the HTML representation or trust the notebook. <br />On GitHub, the HTML representation is unable to render, please try loading this page with nbviewer.org.</b></div><div class=\"sk-container\" hidden><div class=\"sk-item sk-dashed-wrapped\"><div class=\"sk-label-container\"><div class=\"sk-label sk-toggleable\"><input class=\"sk-toggleable__control sk-hidden--visually\" id=\"sk-estimator-id-10\" type=\"checkbox\" ><label for=\"sk-estimator-id-10\" class=\"sk-toggleable__label sk-toggleable__label-arrow\">Pipeline</label><div class=\"sk-toggleable__content\"><pre>Pipeline(steps=[(&#x27;vect&#x27;, TfidfVectorizer()), (&#x27;clf&#x27;, MultinomialNB())])</pre></div></div></div><div class=\"sk-serial\"><div class=\"sk-item\"><div class=\"sk-estimator sk-toggleable\"><input class=\"sk-toggleable__control sk-hidden--visually\" id=\"sk-estimator-id-11\" type=\"checkbox\" ><label for=\"sk-estimator-id-11\" class=\"sk-toggleable__label sk-toggleable__label-arrow\">TfidfVectorizer</label><div class=\"sk-toggleable__content\"><pre>TfidfVectorizer()</pre></div></div></div><div class=\"sk-item\"><div class=\"sk-estimator sk-toggleable\"><input class=\"sk-toggleable__control sk-hidden--visually\" id=\"sk-estimator-id-12\" type=\"checkbox\" ><label for=\"sk-estimator-id-12\" class=\"sk-toggleable__label sk-toggleable__label-arrow\">MultinomialNB</label><div class=\"sk-toggleable__content\"><pre>MultinomialNB()</pre></div></div></div></div></div></div></div>"
      ],
      "text/plain": [
       "Pipeline(steps=[('vect', TfidfVectorizer()), ('clf', MultinomialNB())])"
      ]
     },
     "execution_count": 60,
     "metadata": {},
     "output_type": "execute_result"
    }
   ],
   "source": [
    "tfidf_nb_classifier = Pipeline([\n",
    "    ('vect', tf_idf_vectorizer), \n",
    "    ('clf', MultinomialNB())\n",
    "])\n",
    "tfidf_nb_classifier"
   ]
  },
  {
   "cell_type": "markdown",
   "id": "7e3b6efc-c001-442e-b918-e6e0c31c2456",
   "metadata": {},
   "source": [
    "* Now we have to **train** it."
   ]
  },
  {
   "cell_type": "code",
   "execution_count": 61,
   "id": "03dc296f-985c-4cec-8104-8d252355a232",
   "metadata": {},
   "outputs": [
    {
     "data": {
      "text/html": [
       "<style>#sk-container-id-5 {color: black;}#sk-container-id-5 pre{padding: 0;}#sk-container-id-5 div.sk-toggleable {background-color: white;}#sk-container-id-5 label.sk-toggleable__label {cursor: pointer;display: block;width: 100%;margin-bottom: 0;padding: 0.3em;box-sizing: border-box;text-align: center;}#sk-container-id-5 label.sk-toggleable__label-arrow:before {content: \"▸\";float: left;margin-right: 0.25em;color: #696969;}#sk-container-id-5 label.sk-toggleable__label-arrow:hover:before {color: black;}#sk-container-id-5 div.sk-estimator:hover label.sk-toggleable__label-arrow:before {color: black;}#sk-container-id-5 div.sk-toggleable__content {max-height: 0;max-width: 0;overflow: hidden;text-align: left;background-color: #f0f8ff;}#sk-container-id-5 div.sk-toggleable__content pre {margin: 0.2em;color: black;border-radius: 0.25em;background-color: #f0f8ff;}#sk-container-id-5 input.sk-toggleable__control:checked~div.sk-toggleable__content {max-height: 200px;max-width: 100%;overflow: auto;}#sk-container-id-5 input.sk-toggleable__control:checked~label.sk-toggleable__label-arrow:before {content: \"▾\";}#sk-container-id-5 div.sk-estimator input.sk-toggleable__control:checked~label.sk-toggleable__label {background-color: #d4ebff;}#sk-container-id-5 div.sk-label input.sk-toggleable__control:checked~label.sk-toggleable__label {background-color: #d4ebff;}#sk-container-id-5 input.sk-hidden--visually {border: 0;clip: rect(1px 1px 1px 1px);clip: rect(1px, 1px, 1px, 1px);height: 1px;margin: -1px;overflow: hidden;padding: 0;position: absolute;width: 1px;}#sk-container-id-5 div.sk-estimator {font-family: monospace;background-color: #f0f8ff;border: 1px dotted black;border-radius: 0.25em;box-sizing: border-box;margin-bottom: 0.5em;}#sk-container-id-5 div.sk-estimator:hover {background-color: #d4ebff;}#sk-container-id-5 div.sk-parallel-item::after {content: \"\";width: 100%;border-bottom: 1px solid gray;flex-grow: 1;}#sk-container-id-5 div.sk-label:hover label.sk-toggleable__label {background-color: #d4ebff;}#sk-container-id-5 div.sk-serial::before {content: \"\";position: absolute;border-left: 1px solid gray;box-sizing: border-box;top: 0;bottom: 0;left: 50%;z-index: 0;}#sk-container-id-5 div.sk-serial {display: flex;flex-direction: column;align-items: center;background-color: white;padding-right: 0.2em;padding-left: 0.2em;position: relative;}#sk-container-id-5 div.sk-item {position: relative;z-index: 1;}#sk-container-id-5 div.sk-parallel {display: flex;align-items: stretch;justify-content: center;background-color: white;position: relative;}#sk-container-id-5 div.sk-item::before, #sk-container-id-5 div.sk-parallel-item::before {content: \"\";position: absolute;border-left: 1px solid gray;box-sizing: border-box;top: 0;bottom: 0;left: 50%;z-index: -1;}#sk-container-id-5 div.sk-parallel-item {display: flex;flex-direction: column;z-index: 1;position: relative;background-color: white;}#sk-container-id-5 div.sk-parallel-item:first-child::after {align-self: flex-end;width: 50%;}#sk-container-id-5 div.sk-parallel-item:last-child::after {align-self: flex-start;width: 50%;}#sk-container-id-5 div.sk-parallel-item:only-child::after {width: 0;}#sk-container-id-5 div.sk-dashed-wrapped {border: 1px dashed gray;margin: 0 0.4em 0.5em 0.4em;box-sizing: border-box;padding-bottom: 0.4em;background-color: white;}#sk-container-id-5 div.sk-label label {font-family: monospace;font-weight: bold;display: inline-block;line-height: 1.2em;}#sk-container-id-5 div.sk-label-container {text-align: center;}#sk-container-id-5 div.sk-container {/* jupyter's `normalize.less` sets `[hidden] { display: none; }` but bootstrap.min.css set `[hidden] { display: none !important; }` so we also need the `!important` here to be able to override the default hidden behavior on the sphinx rendered scikit-learn.org. See: https://github.com/scikit-learn/scikit-learn/issues/21755 */display: inline-block !important;position: relative;}#sk-container-id-5 div.sk-text-repr-fallback {display: none;}</style><div id=\"sk-container-id-5\" class=\"sk-top-container\"><div class=\"sk-text-repr-fallback\"><pre>Pipeline(steps=[(&#x27;vect&#x27;, TfidfVectorizer()), (&#x27;clf&#x27;, MultinomialNB())])</pre><b>In a Jupyter environment, please rerun this cell to show the HTML representation or trust the notebook. <br />On GitHub, the HTML representation is unable to render, please try loading this page with nbviewer.org.</b></div><div class=\"sk-container\" hidden><div class=\"sk-item sk-dashed-wrapped\"><div class=\"sk-label-container\"><div class=\"sk-label sk-toggleable\"><input class=\"sk-toggleable__control sk-hidden--visually\" id=\"sk-estimator-id-13\" type=\"checkbox\" ><label for=\"sk-estimator-id-13\" class=\"sk-toggleable__label sk-toggleable__label-arrow\">Pipeline</label><div class=\"sk-toggleable__content\"><pre>Pipeline(steps=[(&#x27;vect&#x27;, TfidfVectorizer()), (&#x27;clf&#x27;, MultinomialNB())])</pre></div></div></div><div class=\"sk-serial\"><div class=\"sk-item\"><div class=\"sk-estimator sk-toggleable\"><input class=\"sk-toggleable__control sk-hidden--visually\" id=\"sk-estimator-id-14\" type=\"checkbox\" ><label for=\"sk-estimator-id-14\" class=\"sk-toggleable__label sk-toggleable__label-arrow\">TfidfVectorizer</label><div class=\"sk-toggleable__content\"><pre>TfidfVectorizer()</pre></div></div></div><div class=\"sk-item\"><div class=\"sk-estimator sk-toggleable\"><input class=\"sk-toggleable__control sk-hidden--visually\" id=\"sk-estimator-id-15\" type=\"checkbox\" ><label for=\"sk-estimator-id-15\" class=\"sk-toggleable__label sk-toggleable__label-arrow\">MultinomialNB</label><div class=\"sk-toggleable__content\"><pre>MultinomialNB()</pre></div></div></div></div></div></div></div>"
      ],
      "text/plain": [
       "Pipeline(steps=[('vect', TfidfVectorizer()), ('clf', MultinomialNB())])"
      ]
     },
     "execution_count": 61,
     "metadata": {},
     "output_type": "execute_result"
    }
   ],
   "source": [
    "tfidf_nb_classifier.fit(cleaned_X_train, y_train)"
   ]
  },
  {
   "cell_type": "markdown",
   "id": "f89b982a-f0c8-4245-8e4f-e9d37abe61f5",
   "metadata": {},
   "source": [
    "* We can now see how it **performs**."
   ]
  },
  {
   "cell_type": "code",
   "execution_count": 68,
   "id": "98620c82-074c-45e2-859b-dd603cc34c4f",
   "metadata": {},
   "outputs": [
    {
     "name": "stdout",
     "output_type": "stream",
     "text": [
      "Accuracy: 0.6428226196230062\n",
      "Confusion Matrix:\n",
      "\n"
     ]
    },
    {
     "data": {
      "image/png": "[encoded data removed]",
      "text/plain": [
       "<Figure size 640x480 with 2 Axes>"
      ]
     },
     "metadata": {},
     "output_type": "display_data"
    },
    {
     "name": "stdout",
     "output_type": "stream",
     "text": [
      "Classification Report:\n",
      "               precision    recall  f1-score   support\n",
      "\n",
      "           0       0.94      0.17      0.28       875\n",
      "           1       0.62      0.99      0.76      1194\n",
      "\n",
      "    accuracy                           0.64      2069\n",
      "   macro avg       0.78      0.58      0.52      2069\n",
      "weighted avg       0.76      0.64      0.56      2069\n",
      "\n"
     ]
    }
   ],
   "source": [
    "y_pred = tfidf_nb_classifier.predict(cleaned_X_test)\n",
    "print_performance_metrics(y_test, y_pred, label_encoding.values())"
   ]
  },
  {
   "cell_type": "markdown",
   "id": "12aac744-0939-47f2-9552-25ed2fa6ed35",
   "metadata": {},
   "source": [
    "* The **accuracy achieved was 64%**.\n",
    "* But pretty **poor results** come when it comes to the **prediction of comedy instances**. This may be the case because of the imbalance, but we can investigate it more later."
   ]
  },
  {
   "cell_type": "markdown",
   "id": "5db82f78-4253-4893-9bef-d73be4caa5b9",
   "metadata": {},
   "source": [
    "#### Embeddings\n",
    "* Embeddings include negative values and <code>MultinomialNB</code> classifier **cannot work** with them, so we cannot use this combination."
   ]
  }
 ],
 "metadata": {
  "kernelspec": {
   "display_name": "Python 3 (ipykernel)",
   "language": "python",
   "name": "python3"
  },
  "language_info": {
   "codemirror_mode": {
    "name": "ipython",
    "version": 3
   },
   "file_extension": ".py",
   "mimetype": "text/x-python",
   "name": "python",
   "nbconvert_exporter": "python",
   "pygments_lexer": "ipython3",
   "version": "3.11.5"
  }
 },
 "nbformat": 4,
 "nbformat_minor": 5
}
